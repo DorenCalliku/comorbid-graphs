{
 "cells": [
  {
   "cell_type": "code",
   "execution_count": 1,
   "id": "fffc5c5b",
   "metadata": {},
   "outputs": [],
   "source": [
    "ACTIONS = {\n",
    "    \"is\": \"take specifically this entity\",\n",
    "    \"is-not\": \"skip this specific entity\",\n",
    "    \"is-like\": \"title is like this\",\n",
    "    \"is-not-like\": \"title is not like this\",\n",
    "    \"contains\": \"in the description, this entity contains this specific word\",\n",
    "    \"doesnt-contain\": \"in the description this entity does not contain a specific word\",\n",
    "    \"cant-be-smaller-than\": \"sets a limit for the count of words that are inside the specific entity\",\n",
    "}\n",
    "ENTITIES = {\n",
    "    \"knowledge-graph\": \"a graph, potentially has subgraphs and documents\",\n",
    "    \"document\": \"has the information, potentially has sections\",\n",
    "    \"section\": \"when the information is separated\",\n",
    "    \"ontology-list\": \"the ontology list we are using for analysis\",\n",
    "}\n",
    "ALLOWED_ACTIONS = {\n",
    "    \"knowledge-graph\": ['is', 'is-not', 'is-like', 'is-not-like'],\n",
    "    \"document\": ['is', 'is-not', 'is-like', 'is-not-like', 'contains', 'doesnt-contain', 'cant-be-smaller-than'],\n",
    "    \"section\": ['is', 'is-not', 'is-like', 'is-not-like', 'contains', 'doesnt-contain', 'cant-be-smaller-than'],\n",
    "    \"ontology-list\": ['is', 'is-not', 'is-like', 'is-not-like'],\n",
    "}"
   ]
  },
  {
   "cell_type": "code",
   "execution_count": null,
   "id": "165393d7",
   "metadata": {},
   "outputs": [],
   "source": []
  },
  {
   "cell_type": "code",
   "execution_count": 2,
   "id": "2b9ba29b",
   "metadata": {},
   "outputs": [],
   "source": [
    "# from .constraints import ACTIONS, ALLOWED_ACTIONS, ENTITIES\n",
    "\n",
    "def validate_query(query_list):\n",
    "    if not isinstance(query_list, list):\n",
    "        raise Exception('Query Mistake: Empty query.')\n",
    "    for line in query_list:\n",
    "        if line['entity'] not in ENTITIES.keys():\n",
    "            raise Exception('Query Mistake: Un-understandable entity.')\n",
    "        if line['action'] not in ALLOWED_ACTIONS[line['entity']]:\n",
    "            raise Exception('Query Mistake: Action not-allowed for entity.')\n",
    "        if line['action'] not in ACTIONS.keys():\n",
    "            raise Exception('Query Mistake: Un-understandable action.')\n",
    "        if len(line['items']) <= 0:\n",
    "            raise Exception('Query Mistake: Empty query for entity '+ line['entity'] + '.')\n",
    "        if len([i for i in line['items'] if i == '']) > 0:\n",
    "            raise Exception('Query Mistake: Did you leave an empty value in the end of entity '+ line['entity'] + '?')\n",
    "    return query_list\n",
    "\n",
    "def get_structured_query(query_str):\n",
    "    # separate string into groups\n",
    "    val = [\n",
    "        i.rstrip().lstrip()\n",
    "        for i in query_str.replace('  ',' ').replace('\\n',' ').split('AND')\n",
    "        if i !=''\n",
    "    ]\n",
    "\n",
    "    # extract main entity-action-items\n",
    "    query_list = []\n",
    "    for line in val:\n",
    "        entity_index = line.find(' ')\n",
    "        action_index = line.find(' ', entity_index+1)\n",
    "\n",
    "        query_list.append(\n",
    "            {\n",
    "                \"entity\": line[:entity_index],\n",
    "                \"action\": line[entity_index+1:action_index],\n",
    "                \"items\": line[action_index+1:].split(',')\n",
    "            }\n",
    "        )\n",
    "    return validate_query(query_list)"
   ]
  },
  {
   "cell_type": "code",
   "execution_count": null,
   "id": "96363123",
   "metadata": {},
   "outputs": [],
   "source": [
    "f\"\"\"\n",
    "FROM node {}\n",
    "include node.type that \n",
    "have-titles-like {} AND\n",
    "have-\n",
    "\"\"\""
   ]
  },
  {
   "cell_type": "markdown",
   "id": "bac7eb7b",
   "metadata": {},
   "source": [
    "### Selection Process"
   ]
  },
  {
   "cell_type": "code",
   "execution_count": 3,
   "id": "f5b2fed3",
   "metadata": {},
   "outputs": [
    {
     "data": {
      "text/plain": [
       "'\\nfrom graph DSM-V\\ninclude documents that\\n\\nhave-titles-like         disorder AND\\ncontain-phrases-like     happiness AND\\nhave-ancestors-like      neurodevelopmental AND\\nhave-parents-like        phobic AND\\nhave-body-longer-than    3 \\n\\nexclude documents that\\n\\nhave-titles-like disorder AND\\ncontain-phrases-like clear AND\\nhave-parents-like neurodevelopmental AND\\nhave-deep-parents-like phobic AND\\nhave-length-bigger-than 3\\n'"
      ]
     },
     "execution_count": 3,
     "metadata": {},
     "output_type": "execute_result"
    }
   ],
   "source": [
    "\"\"\"\n",
    "from graph DSM-V\n",
    "include documents that\n",
    "\n",
    "have-titles-like         disorder AND\n",
    "contain-phrases-like     happiness AND\n",
    "have-ancestors-like      neurodevelopmental AND\n",
    "have-parents-like        phobic AND\n",
    "have-body-longer-than    3 \n",
    "\n",
    "exclude documents that\n",
    "\n",
    "have-titles-like disorder AND\n",
    "contain-phrases-like clear AND\n",
    "have-parents-like neurodevelopmental AND\n",
    "have-deep-parents-like phobic AND\n",
    "have-length-bigger-than 3\n",
    "\"\"\""
   ]
  },
  {
   "cell_type": "markdown",
   "id": "47c3b65b",
   "metadata": {},
   "source": [
    "### Analysis Process"
   ]
  },
  {
   "cell_type": "code",
   "execution_count": 4,
   "id": "e7cc0376",
   "metadata": {},
   "outputs": [
    {
     "data": {
      "text/plain": [
       "'\\nfrom analysis-options \\ninclude dictionaries that\\n\\nhave-titles like \\n'"
      ]
     },
     "execution_count": 4,
     "metadata": {},
     "output_type": "execute_result"
    }
   ],
   "source": [
    "\"\"\"\n",
    "from analysis-options \n",
    "include dictionaries that\n",
    "\n",
    "have-titles like \n",
    "\"\"\""
   ]
  },
  {
   "cell_type": "code",
   "execution_count": 5,
   "id": "e49c7ae7",
   "metadata": {},
   "outputs": [],
   "source": [
    "#!pip uninstall -y markdown\n",
    "#!pip uninstall -y micawber\n",
    "#!pip install Markdown\n",
    "#!pip install micawber"
   ]
  },
  {
   "cell_type": "code",
   "execution_count": 6,
   "id": "5f347776",
   "metadata": {},
   "outputs": [
    {
     "ename": "ModuleNotFoundError",
     "evalue": "No module named 'ontology_graphs'",
     "output_type": "error",
     "traceback": [
      "\u001b[0;31m---------------------------------------------------------------------------\u001b[0m",
      "\u001b[0;31mModuleNotFoundError\u001b[0m                       Traceback (most recent call last)",
      "\u001b[0;32m/tmp/ipykernel_118226/1796731915.py\u001b[0m in \u001b[0;36m<module>\u001b[0;34m\u001b[0m\n\u001b[0;32m----> 1\u001b[0;31m \u001b[0;32mfrom\u001b[0m \u001b[0mnotebooks\u001b[0m\u001b[0;34m.\u001b[0m\u001b[0mknowledge_graph\u001b[0m \u001b[0;32mimport\u001b[0m \u001b[0mKnowledgeGraph\u001b[0m\u001b[0;34m\u001b[0m\u001b[0;34m\u001b[0m\u001b[0m\n\u001b[0m",
      "\u001b[0;32m~/Desktop/meta/notebooks/notebooks/knowledge_graph.py\u001b[0m in \u001b[0;36m<module>\u001b[0;34m\u001b[0m\n\u001b[0;32m----> 1\u001b[0;31m \u001b[0;32mfrom\u001b[0m \u001b[0montology_graphs\u001b[0m\u001b[0;34m.\u001b[0m\u001b[0mtree_mixin\u001b[0m \u001b[0;32mimport\u001b[0m \u001b[0mAnyTreeMixin\u001b[0m\u001b[0;34m,\u001b[0m \u001b[0mAnyTreeIOMixin\u001b[0m\u001b[0;34m\u001b[0m\u001b[0;34m\u001b[0m\u001b[0m\n\u001b[0m\u001b[1;32m      2\u001b[0m \u001b[0;32mfrom\u001b[0m \u001b[0;34m.\u001b[0m\u001b[0mknowledge_graph_node\u001b[0m \u001b[0;32mimport\u001b[0m \u001b[0mKnowledgeGraphNode\u001b[0m\u001b[0;34m\u001b[0m\u001b[0;34m\u001b[0m\u001b[0m\n\u001b[1;32m      3\u001b[0m \u001b[0;32mfrom\u001b[0m \u001b[0manytree\u001b[0m \u001b[0;32mimport\u001b[0m \u001b[0mPreOrderIter\u001b[0m\u001b[0;34m,\u001b[0m \u001b[0mLevelOrderIter\u001b[0m\u001b[0;34m\u001b[0m\u001b[0;34m\u001b[0m\u001b[0m\n\u001b[1;32m      4\u001b[0m \u001b[0;34m\u001b[0m\u001b[0m\n\u001b[1;32m      5\u001b[0m \u001b[0;32mclass\u001b[0m \u001b[0mKnowledgeGraph\u001b[0m\u001b[0;34m(\u001b[0m\u001b[0mAnyTreeMixin\u001b[0m\u001b[0;34m,\u001b[0m \u001b[0mAnyTreeIOMixin\u001b[0m\u001b[0;34m)\u001b[0m\u001b[0;34m:\u001b[0m\u001b[0;34m\u001b[0m\u001b[0;34m\u001b[0m\u001b[0m\n",
      "\u001b[0;31mModuleNotFoundError\u001b[0m: No module named 'ontology_graphs'"
     ]
    }
   ],
   "source": [
    "from notebooks.knowledge_graph import KnowledgeGraph"
   ]
  },
  {
   "cell_type": "code",
   "execution_count": null,
   "id": "2a63143d",
   "metadata": {},
   "outputs": [],
   "source": []
  },
  {
   "cell_type": "code",
   "execution_count": null,
   "id": "a35964f3",
   "metadata": {},
   "outputs": [],
   "source": []
  }
 ],
 "metadata": {
  "kernelspec": {
   "display_name": "Python 3 (ipykernel)",
   "language": "python",
   "name": "python3"
  },
  "language_info": {
   "codemirror_mode": {
    "name": "ipython",
    "version": 3
   },
   "file_extension": ".py",
   "mimetype": "text/x-python",
   "name": "python",
   "nbconvert_exporter": "python",
   "pygments_lexer": "ipython3",
   "version": "3.8.12"
  }
 },
 "nbformat": 4,
 "nbformat_minor": 5
}
