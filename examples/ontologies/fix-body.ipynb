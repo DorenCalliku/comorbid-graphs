{
 "cells": [
  {
   "cell_type": "code",
   "execution_count": 28,
   "id": "92db1349",
   "metadata": {},
   "outputs": [],
   "source": [
    "import json\n",
    "import glob\n",
    "import pprint\n",
    "\n",
    "from ontology_graphs import OntologyGraph"
   ]
  },
  {
   "cell_type": "code",
   "execution_count": 34,
   "id": "29b9ff95",
   "metadata": {},
   "outputs": [],
   "source": [
    "def recursive_fix(item):\n",
    "    # fix\n",
    "    body = []\n",
    "    if 'annotations' in item and item['annotations'] and 'definition' in item['annotations']:\n",
    "        for it in item['annotations']['definition']:\n",
    "            if '*** REVISE ***' in it['value']:\n",
    "                body.append(it['value'])\n",
    "            else:\n",
    "                body.insert(0, it['value'])\n",
    "    item['body'] = '\\n\\n'.join(body)\n",
    "    \n",
    "    # children fix\n",
    "    children = []\n",
    "    if 'children' in item:\n",
    "        for child in item['children']:\n",
    "            children.append(recursive_fix(child))\n",
    "        item['children'] = children\n",
    "    return item"
   ]
  },
  {
   "cell_type": "code",
   "execution_count": 35,
   "id": "f885a75b",
   "metadata": {},
   "outputs": [],
   "source": [
    "example_files = glob.glob('mental_health/example_text/*')\n",
    "annotations_files = glob.glob('mental_health/annotations/*')"
   ]
  },
  {
   "cell_type": "code",
   "execution_count": 36,
   "id": "f2628477",
   "metadata": {},
   "outputs": [
    {
     "name": "stdout",
     "output_type": "stream",
     "text": [
      "mental_health/example_text/diagnosis of disorder_ND.json\n",
      "mental_health/example_text/disease course_ND.json\n",
      "mental_health/example_text/disease of mental health_HumanDO.json\n",
      "mental_health/example_text/diagnostic guideline_ND.json\n",
      "mental_health/example_text/diagnosis of syndrome_ND.json\n",
      "mental_health/example_text/diagnosis of disease_ND.json\n",
      "mental_health/annotations/representation_MF-core.json\n",
      "mental_health/annotations/syndrome_ND.json\n",
      "mental_health/annotations/general symptom_symp.json\n",
      "mental_health/annotations/bodily disposition_MF-core.json\n",
      "mental_health/annotations/neurological disease_ND.json\n",
      "mental_health/annotations/neurological and physiological symptom_symp.json\n",
      "mental_health/annotations/head and neck symptom_symp.json\n",
      "mental_health/annotations/interpersonal process_MF-core.json\n",
      "mental_health/annotations/disease of mental health_HumanDO.json\n",
      "mental_health/annotations/pathological bodily process_ND.json\n",
      "mental_health/annotations/mental disorder_MD-core.json\n",
      "mental_health/annotations/consciousness_MF-core.json\n",
      "mental_health/annotations/disorder_ND.json\n",
      "mental_health/annotations/nervous system disease_HumanDO.json\n",
      "mental_health/annotations/disease stage_ND.json\n",
      "mental_health/annotations/mental process_MF-core.json\n",
      "mental_health/annotations/pathological mental process_MD-core.json\n",
      "mental_health/annotations/nervous system symptom_symp.json\n"
     ]
    }
   ],
   "source": [
    "for file in example_files+annotations_files:\n",
    "    print(file)\n",
    "    # read file\n",
    "    with open(file) as f:\n",
    "        data = json.load(f)\n",
    "    data = recursive_fix(data)\n",
    "    \n",
    "    # load new ontology\n",
    "    og = OntologyGraph()\n",
    "    og.load_from_json(data)\n",
    "    \n",
    "    with open(file, 'w+') as f:\n",
    "        json.dump(og.export(), f)"
   ]
  },
  {
   "cell_type": "code",
   "execution_count": null,
   "id": "0812cf72",
   "metadata": {},
   "outputs": [],
   "source": []
  }
 ],
 "metadata": {
  "kernelspec": {
   "display_name": "Python 3 (ipykernel)",
   "language": "python",
   "name": "python3"
  },
  "language_info": {
   "codemirror_mode": {
    "name": "ipython",
    "version": 3
   },
   "file_extension": ".py",
   "mimetype": "text/x-python",
   "name": "python",
   "nbconvert_exporter": "python",
   "pygments_lexer": "ipython3",
   "version": "3.8.12"
  }
 },
 "nbformat": 4,
 "nbformat_minor": 5
}
