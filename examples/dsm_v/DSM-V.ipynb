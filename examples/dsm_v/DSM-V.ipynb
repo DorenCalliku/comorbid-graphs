{
 "cells": [
  {
   "cell_type": "code",
   "execution_count": 1,
   "id": "580d6e05",
   "metadata": {},
   "outputs": [],
   "source": [
    "import json\n",
    "from comorbid_graphs import ComorbidGraph, ComorbidGraphNode"
   ]
  },
  {
   "cell_type": "code",
   "execution_count": 2,
   "id": "bacd373c",
   "metadata": {},
   "outputs": [],
   "source": [
    "with open('dsm_v.json') as f:\n",
    "    data = json.load(f)\n",
    "cg = ComorbidGraph(data, ComorbidGraphNode, assign_ids=True)"
   ]
  },
  {
   "cell_type": "code",
   "execution_count": 4,
   "id": "01c5623d",
   "metadata": {},
   "outputs": [
    {
     "name": "stdout",
     "output_type": "stream",
     "text": [
      "DSM_V\n",
      "├── Neurodevelopmental Disorders\n",
      "├── Schizophrenia Spectrum and Other Psychotic Disorders\n",
      "├── Bipolar and Related Disorders\n",
      "├── Depressive Disorders\n",
      "├── Anxiety Disorders\n",
      "├── Obsessive-Compulsive and Related Disorders\n",
      "├── Trauma and Stressor-Related Disorders\n",
      "├── Dissociative Disorders\n",
      "├── Somatic Symptom and Related Disorders\n",
      "├── Feeding and Eating Disorders\n",
      "├── Elimination Disorders\n",
      "├── Sleep-Wake Disorders\n",
      "├── Sexual Dysfunctions\n",
      "├── Gender Dysplioria\n",
      "├── Disruptive, Impulse-Control, and Conduct Disorders\n",
      "├── Substance-Related and Addictive Disorders\n",
      "├── Neurocognitive Disorders\n",
      "├── Personality Disorders\n",
      "├── Paraphilic Disorders\n",
      "├── Other Mental Disorders\n",
      "├── Medication-Induced Movement Disorders and Other Adverse Effects of Medication\n",
      "└── Other Conditions That May Be a Focus of Clinicai Attention\n",
      "\n"
     ]
    }
   ],
   "source": [
    "print(cg.explore(maxlevel=2))"
   ]
  },
  {
   "cell_type": "code",
   "execution_count": 7,
   "id": "154ee5ea",
   "metadata": {},
   "outputs": [],
   "source": [
    "#cg.process_graph([cg])"
   ]
  },
  {
   "cell_type": "code",
   "execution_count": null,
   "id": "8d715dcc",
   "metadata": {},
   "outputs": [],
   "source": []
  }
 ],
 "metadata": {
  "kernelspec": {
   "display_name": "Python 3 (ipykernel)",
   "language": "python",
   "name": "python3"
  },
  "language_info": {
   "codemirror_mode": {
    "name": "ipython",
    "version": 3
   },
   "file_extension": ".py",
   "mimetype": "text/x-python",
   "name": "python",
   "nbconvert_exporter": "python",
   "pygments_lexer": "ipython3",
   "version": "3.8.12"
  }
 },
 "nbformat": 4,
 "nbformat_minor": 5
}
