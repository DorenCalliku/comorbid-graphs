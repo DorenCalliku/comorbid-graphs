{
 "cells": [
  {
   "cell_type": "markdown",
   "id": "c0c9f144",
   "metadata": {},
   "source": [
    "## Wikipedia Categories extraction\n",
    "Following community guidelines"
   ]
  },
  {
   "cell_type": "code",
   "execution_count": 18,
   "id": "9b985e8f",
   "metadata": {},
   "outputs": [],
   "source": [
    "# !pip install requests"
   ]
  },
  {
   "cell_type": "code",
   "execution_count": 19,
   "id": "bbfaf321",
   "metadata": {},
   "outputs": [],
   "source": [
    "import requests\n",
    "CAT = 'Category:'\n",
    "LIST= 'List of '\n",
    "SUB = 'Subfields of '\n",
    "\n",
    "\n",
    "def recursive_extraction(wiki_url):\n",
    "    wiki_urls = {}\n",
    "    if wiki_url.startswith()\n",
    "    return wiki_urls"
   ]
  },
  {
   "cell_type": "code",
   "execution_count": 16,
   "id": "01ed1945",
   "metadata": {},
   "outputs": [
    {
     "name": "stdout",
     "output_type": "stream",
     "text": [
      "List of branches of psychology\n",
      "List of psychological schools\n",
      "Subfields of psychology\n",
      "Asian psychology\n",
      "Black psychology\n",
      "Color psychology\n",
      "Comparative psychology\n",
      "Critical psychology\n",
      "Differential psychology\n",
      "Educational psychology\n",
      "Epistemological psychology\n",
      "Experimental aesthetics\n",
      "Gestalt psychology\n",
      "Indian psychology\n",
      "Mathematical psychology\n",
      "Media psychology\n",
      "Medical psychology\n",
      "Narrative psychology\n",
      "Paradox psychology\n",
      "Peace psychology\n",
      "Personality psychology\n",
      "Phenomenology (psychology)\n",
      "Photo psychology\n",
      "Psychiatry\n",
      "Psychoanalysis\n",
      "Psychology of collecting\n",
      "Psychology of dance\n",
      "Psychology of disenfranchisement\n",
      "Psychology of film\n",
      "Psychology of science\n",
      "Psychometrics\n",
      "Psychophysics\n",
      "Quantitative psychology\n",
      "Rehabilitation psychology\n",
      "Somatic psychology\n",
      "Theoretical psychology\n",
      "Trading psychology\n",
      "Trans-species psychology\n",
      "Transnational psychology\n",
      "Category:Interdisciplinary branches of psychology\n",
      "Category:Psychologists by field of research\n",
      "Category:Abnormal psychology\n",
      "Category:Anomalistic psychology\n",
      "Category:Applied psychology\n",
      "Category:Cognitive psychology\n",
      "Category:Cross-cultural psychology\n",
      "Category:Cyberpsychology\n",
      "Category:Developmental psychology\n",
      "Category:Evolutionary psychology\n",
      "Category:Experimental psychology\n",
      "Category:Forensic psychology\n",
      "Category:Gender psychology\n",
      "Category:Mathematical psychology\n",
      "Category:Moral psychology\n",
      "Category:Parapsychology\n",
      "Category:Psychometrics\n",
      "Category:Social psychology\n",
      "Category:Somatic psychology\n"
     ]
    }
   ],
   "source": [
    "S = requests.Session()\n",
    "URL = \"https://en.wikipedia.org/w/api.php\"\n",
    "PARAMS = {\n",
    "    \"action\": \"query\",\n",
    "    \"cmtitle\": \"Category:Branches of psychology\",\n",
    "    \"cmlimit\": \"1000\",\n",
    "    \"list\": \"categorymembers\",\n",
    "    \"format\": \"json\"\n",
    "}\n",
    "\n",
    "def extract_pages(wiki_category):\n",
    "    PARAMS['cmmtitle'] = wiki_category\n",
    "    results = S.get(url=URL, params=PARAMS)\n",
    "    data = results.json()\n",
    "\n",
    "    pages = data['query']['categorymembers']\n",
    "\n",
    "    for page in pages:\n",
    "        print(page['title'])\n",
    "    return set(page['title'] for page in "
   ]
  },
  {
   "cell_type": "code",
   "execution_count": 17,
   "id": "b952ab56",
   "metadata": {},
   "outputs": [
    {
     "data": {
      "text/plain": [
       "{'pageid': 37856724, 'ns': 14, 'title': 'Category:Somatic psychology'}"
      ]
     },
     "execution_count": 17,
     "metadata": {},
     "output_type": "execute_result"
    }
   ],
   "source": [
    "page"
   ]
  },
  {
   "cell_type": "code",
   "execution_count": null,
   "id": "a6b6dc3b",
   "metadata": {},
   "outputs": [],
   "source": []
  }
 ],
 "metadata": {
  "kernelspec": {
   "display_name": "Python 3 (ipykernel)",
   "language": "python",
   "name": "python3"
  },
  "language_info": {
   "codemirror_mode": {
    "name": "ipython",
    "version": 3
   },
   "file_extension": ".py",
   "mimetype": "text/x-python",
   "name": "python",
   "nbconvert_exporter": "python",
   "pygments_lexer": "ipython3",
   "version": "3.8.12"
  }
 },
 "nbformat": 4,
 "nbformat_minor": 5
}
