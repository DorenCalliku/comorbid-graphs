{
 "cells": [
  {
   "cell_type": "code",
   "execution_count": 1,
   "id": "3149d8b4",
   "metadata": {},
   "outputs": [],
   "source": [
    "#!pip install matplotlib\n",
    "#!pip install ."
   ]
  },
  {
   "cell_type": "code",
   "execution_count": 2,
   "id": "a40dd684",
   "metadata": {},
   "outputs": [],
   "source": [
    "import json\n",
    "import pprint\n",
    "import matplotlib.pyplot as plt\n",
    "\n",
    "from anytree import PreOrderIter, RenderTree\n",
    "from anytree.search import findall\n",
    "from comorbid_graphs import ComorbidGraph, ComorbidGraphNode"
   ]
  },
  {
   "cell_type": "markdown",
   "id": "0ccce0e2",
   "metadata": {},
   "source": [
    "### Creating graph "
   ]
  },
  {
   "cell_type": "code",
   "execution_count": 3,
   "id": "a35964f3",
   "metadata": {},
   "outputs": [],
   "source": [
    "with open('../tests/fixtures/symp_tree.json') as f:\n",
    "    data = json.load(f)\n",
    "cg = ComorbidGraph(data, ComorbidGraphNode, assign_ids=True)"
   ]
  },
  {
   "cell_type": "code",
   "execution_count": 26,
   "id": "df5c3a68",
   "metadata": {},
   "outputs": [
    {
     "name": "stdout",
     "output_type": "stream",
     "text": [
      "Source\n",
      "├── symptom\n",
      "│   ├── urinary system symptom\n",
      "│   ├── general symptom\n",
      "│   ├── respiratory system and chest symptom\n",
      "│   ├── neurological and physiological symptom\n",
      "│   ├── musculoskeletal system symptom\n",
      "│   ├── nervous system symptom\n",
      "│   ├── abdominal symptom\n",
      "│   ├── head and neck symptom\n",
      "│   ├── skin and integumentary tissue symptom\n",
      "│   ├── hemic and immune system symptom\n",
      "│   ├── digestive system symptom\n",
      "│   ├── cardiovascular system symptom\n",
      "│   ├── nutrition, metabolism, and development symp\n",
      "...\n"
     ]
    }
   ],
   "source": [
    "print(cg.pretty_print_tree()[:500])\n",
    "print('...')"
   ]
  },
  {
   "cell_type": "markdown",
   "id": "3b709932",
   "metadata": {},
   "source": [
    "## Searching\n",
    "Searching should be extensible to allow sql search for larger data than KGs.\n",
    "For this we have a many step search.\n",
    "- search for ancestors, parents first\n",
    "  - get the names of these, include-exclude\n",
    "  - merge all of the nodes, merging with include-exclude\n",
    "- for docs in the ending KnowledgeGraph\n",
    "  - filter by type\n",
    "  - filter by body length\n",
    "- search in the body"
   ]
  },
  {
   "cell_type": "code",
   "execution_count": 27,
   "id": "923d2733",
   "metadata": {},
   "outputs": [],
   "source": [
    "DIRECTION = ['inc_', 'exc_', 'include_', 'exclude_']\n",
    "FILTERS = ['name', 'content', 'type', 'text_longer', 'ancestor', 'parent']"
   ]
  },
  {
   "cell_type": "code",
   "execution_count": 70,
   "id": "b64deb3c",
   "metadata": {},
   "outputs": [],
   "source": [
    "def get_query_dict(query_str):\n",
    "    query_str = query_str.replace('  ',' ').replace('\\n',' ').rstrip().lstrip()\n",
    "    if not query_str.startswith('inc_') and not query_str.startswith('exc_'):\n",
    "        query_str = 'inc_content:' + query_str\n",
    "    for i in DIRECTION:\n",
    "        query_str = query_str.replace(i, '_BREAK_'+ i)\n",
    "\n",
    "    values = [\n",
    "        i.rstrip().lstrip()\n",
    "        for i in query_str.split('_BREAK_')\n",
    "        if i.rstrip().lstrip() != ''\n",
    "    ]\n",
    "\n",
    "    query = {}\n",
    "    for line in values:\n",
    "        u_ind = line.find('_')         # underline index\n",
    "        c_ind = line.find(':')         # comma index\n",
    "        key = line[u_ind+1:c_ind]\n",
    "        if key not in FILTERS:\n",
    "            continue\n",
    "        if key not in query:\n",
    "            query[line[u_ind+1:c_ind]] = {}\n",
    "        query[line[u_ind+1:c_ind]][line[:u_ind]] = [\n",
    "            i for i in line[c_ind+1:].rstrip().lstrip().split(',')\n",
    "            if i != ''\n",
    "        ]\n",
    "    return query"
   ]
  },
  {
   "cell_type": "code",
   "execution_count": 73,
   "id": "eda14a22",
   "metadata": {},
   "outputs": [],
   "source": [
    "query_str = \"\"\"\n",
    "inc_name:Disorder\n",
    "inc_type:document\n",
    "inc_text_longer:300\n",
    "inc_ancestor:Phobic\n",
    "exc_ancestor:Neurodevelopmental Disorders\n",
    "\"\"\"\n",
    "query_dict = get_query_dict(query_str)"
   ]
  },
  {
   "cell_type": "code",
   "execution_count": 74,
   "id": "d5bc109e",
   "metadata": {},
   "outputs": [
    {
     "data": {
      "text/plain": [
       "{'name': {'inc': ['Disorder']},\n",
       " 'type': {'inc': ['document']},\n",
       " 'text_longer': {'inc': ['300']},\n",
       " 'ancestor': {'inc': ['Phobic'], 'exc': ['Neurodevelopmental Disorders']}}"
      ]
     },
     "execution_count": 74,
     "metadata": {},
     "output_type": "execute_result"
    }
   ],
   "source": [
    "query_dict"
   ]
  },
  {
   "cell_type": "markdown",
   "id": "5e3d5604",
   "metadata": {},
   "source": [
    "### 1. Filtering\n",
    "Filter based on node properties if included or not - `name`, `type`, `body-length`.\n"
   ]
  },
  {
   "cell_type": "code",
   "execution_count": 95,
   "id": "399ab469",
   "metadata": {},
   "outputs": [],
   "source": [
    "class FilterableMixin(object):\n",
    "    \"\"\"Allows specific filtering for some parameters.\"\"\"\n",
    "            \n",
    "    def filter_query(self, query_dict):\n",
    "        return (\n",
    "            self.filter_name(\n",
    "                query_dict['name']['inc'], query_dict['name']['exc']\n",
    "            ) if 'name' in query_dict else True\n",
    "            and\n",
    "            self.filter_parent(\n",
    "                query_dict['parent']['inc'], query_dict['parent']['exc']\n",
    "            ) if 'parent' in query_dict else True\n",
    "            and\n",
    "            self.filter_type(\n",
    "                query_dict['type']['inc'], query_dict['type']['exc']\n",
    "            ) if 'type' in query_dict else True\n",
    "            and\n",
    "            self.filter_text_longer(\n",
    "                query_dict['text_longer']['inc'], query_dict['text_longer']['exc']\n",
    "            ) if 'text_longer' in query_dict else True\n",
    "            and\n",
    "            self.filter_content(\n",
    "                query_dict['text_content']['inc'], query_dict['text_longer']['exc']\n",
    "            ) if 'content' in query_dict else True\n",
    "        )\n",
    "\n",
    "    def filter_name(self, inc_list, exc_list, strict=False):\n",
    "        \"\"\"Checks if the name is in the included list, and not in the excluded.\"\"\"\n",
    "        if strict:\n",
    "            if self.name in inc_list and self.name not in exc_list:\n",
    "                return True\n",
    "            return False\n",
    "        else:\n",
    "            if any(i in self.name for i in inc_list) and not any(i in self.name for i in exc_list):\n",
    "                return True\n",
    "            return False\n",
    "\n",
    "    def filter_content(self, inc_list, exc_list):\n",
    "        \"\"\"Filters content that has the phrases put in the included list.\"\"\"\n",
    "        if not hasattr(self, 'body'):\n",
    "            return False\n",
    "        if any(i in self.body for i in inc_list) and not any(i in self.body for i in exc_list):\n",
    "            return True\n",
    "        return False\n",
    "\n",
    "    def filter_parent(self, inc_list, exc_list, strict=False):\n",
    "        if not self.parent or not self.parent.name:\n",
    "            return False\n",
    "        if strict:\n",
    "            if self.name in inc_list and self.name not in exc_list:\n",
    "                return True\n",
    "            return False\n",
    "        else:\n",
    "            if any(i in self.parent.name for i in inc_list) and not any(i in self.parent.name for i in exc_list):\n",
    "                return True\n",
    "        return False\n",
    "\n",
    "    def filter_type(self, inc_list, exc_list):\n",
    "        if not hasattr(self, 'type'):\n",
    "            return False\n",
    "        if self.type in inc_list and self.type not in exc_list:\n",
    "            return True\n",
    "        return False\n",
    "    \n",
    "    def filter_text_longer(self, inc_list, exc_list):\n",
    "        if not hasattr(self, 'body'):\n",
    "            return False\n",
    "        if inc_list != [] and len(self.body) <= int(inc_list[0]):\n",
    "            return False\n",
    "        if exc_list != [] and len(self.body) > int(exc_list[0]):\n",
    "            return False                \n",
    "        return True"
   ]
  },
  {
   "cell_type": "code",
   "execution_count": 96,
   "id": "5b738c75",
   "metadata": {},
   "outputs": [],
   "source": [
    "class FilterableNode(ComorbidGraphNode, FilterableMixin):\n",
    "    pass\n",
    "\n",
    "class FilterableGraph(ComorbidGraph):\n",
    "    @staticmethod\n",
    "    def fix_query(query_dict):\n",
    "        for key, val in query_dict.items():\n",
    "            if 'inc' not in val:\n",
    "                query_dict[key]['inc'] = []\n",
    "            if 'exc' not in val:\n",
    "                query_dict[key]['exc'] = []\n",
    "        return query_dict"
   ]
  },
  {
   "cell_type": "code",
   "execution_count": 97,
   "id": "066a3778",
   "metadata": {},
   "outputs": [],
   "source": [
    "filter_cg = ComorbidGraph(data, FilterableNode, assign_ids=True)"
   ]
  },
  {
   "cell_type": "code",
   "execution_count": 98,
   "id": "a8920959",
   "metadata": {},
   "outputs": [
    {
     "name": "stdout",
     "output_type": "stream",
     "text": [
      "Source\n",
      "├── symptom\n",
      "│   ├── urinary system symptom\n",
      "│   ├── general symptom\n",
      "│   ├── respiratory system and chest symptom\n",
      "│   ├── neurological and physiological symptom\n",
      "│   ├── musculoskeletal system symptom\n",
      "│   ├── nervous system symptom\n",
      "│   ├── abdominal symptom\n",
      "│   ├── head and neck symptom\n",
      "│   ├── skin and integumentary tissue symptom\n",
      "│   ├── hemic and immune system symptom\n",
      "│   ├── digestive system symptom\n",
      "│   ├── cardiovascular system symptom\n",
      "│   ├── nutrition, metabolism, and development symptom\n",
      "│   └── reproductive system symptom\n",
      "├── obsolete appendicitis\n",
      "├── ankle swelling\n",
      "├── respiratory distress\n",
      "├── ulcerations\n",
      "├── osteomyelitis\n",
      "├── portal hepatitis\n",
      "├── photosensitivity\n",
      "├── persistent lymphocytosis\n",
      "├── petechial hemorrhages\n",
      "├── partial paralysis\n",
      "├── reddening\n",
      "├── pustular skin lesions\n",
      "├── prolonged thrombocytopenia\n",
      "├── proliferative tracheitis\n",
      "├── proliferative mouth papules\n",
      "├── proliferative skin lesions\n",
      "├── self-limiting liver inflammation\n",
      "├── sclerodermoid plaques\n",
      "├── salivary gland swelling\n",
      "├── retinal inflammation\n",
      "├── slight pyrexia\n",
      "├── slight cough\n",
      "├── skin papules\n",
      "├── sudden onset of severe chills\n",
      "├── obsolete spastic paralysis\n",
      "├── obsolete sudden onset of fever\n",
      "├── splitting of tissues\n",
      "├── spleen infiltrates\n",
      "├── spleen hemorrhages\n",
      "├── swollen cervical lymphnodes\n",
      "├── systemic infection\n",
      "├── thymus atrophy\n",
      "├── systemic vasculitis\n",
      "├── tarry droppings\n",
      "├── systemic necrosis\n",
      "├── obsolete transient fever\n",
      "├── vesicles on feet\n",
      "├── vascular necrosis\n",
      "├── vein swelling\n",
      "├── upper respiratory distress\n",
      "├── vascular lesions\n",
      "├── ulcerative dermal vesicles\n",
      "├── vesicles on teats\n",
      "├── vesicular lesions on lip border\n",
      "├── vesicles on hoof corona\n",
      "├── vesicles on mouth\n",
      "├── wet droppings\n",
      "├── watery ocular discharge\n",
      "├── watery diarrhea\n",
      "├── yellow liver\n",
      "├── hemiwalking\n",
      "├── hemistanding\n",
      "├── Thing\n",
      "├── obsolete nasal discharge\n",
      "├── neck swelling\n",
      "├── arrested moulting\n",
      "├── acute enteritis in newborns\n",
      "├── capillary leakage\n",
      "├── cardiomyocyte destruction\n",
      "├── bloody exudate\n",
      "├── blurred vision\n",
      "├── bloody diarrhea\n",
      "├── exophthalmia\n",
      "├── feather loss\n",
      "├── epidermal proliferation\n",
      "├── excess mucus in bronchi\n",
      "├── catarrhal enteritis\n",
      "├── fragile bones\n",
      "├── fluid in pericardial sac\n",
      "├── flaccid limb paralysis\n",
      "├── obsolete high fever\n",
      "├── obsolete hind limb paralysis\n",
      "├── hemorrhagic thoracic lymphadenitis\n",
      "├── hemorrhagic enteritis\n",
      "├── hemorrhagic meningitis\n",
      "├── hyperemic liver\n",
      "├── hunched posture\n",
      "├── hyperplastic alveolar nodules\n",
      "├── hyperkeratotic plaques of surface of foot\n",
      "├── hyperemic spleen\n",
      "├── inflammation of meninges\n",
      "├── ill-thrift\n",
      "├── obsolete lameness\n",
      "├── joint swelling\n",
      "├── lesions in thymus\n",
      "├── lesions in respiratory tract\n",
      "├── lesions in spleen\n",
      "├── localized cutaneous lesions\n",
      "├── loose droppings\n",
      "├── lymphocytic hyperplasia\n",
      "├── loss of coordination\n",
      "├── low grade fever\n",
      "├── massive lymphadenopathy\n",
      "├── severe temperature increase\n",
      "├── partial paralysis of the limbs\n",
      "├── acute suppurative lesions\n",
      "├── obsolete chronic fatigue syndrome\n",
      "├── acute respiratory distress\n",
      "└── excess pericardial fluid\n",
      "\n"
     ]
    }
   ],
   "source": [
    "print(filter_cg.pretty_print_tree())"
   ]
  },
  {
   "cell_type": "code",
   "execution_count": 99,
   "id": "9e3c54ec",
   "metadata": {},
   "outputs": [
    {
     "data": {
      "text/plain": [
       "{'name': {'inc': ['system']}, 'parent': {'inc': ['symptom']}}"
      ]
     },
     "execution_count": 99,
     "metadata": {},
     "output_type": "execute_result"
    }
   ],
   "source": [
    "query_str = \"\"\"inc_name:system inc_parent:symptom\"\"\"\n",
    "query_dict = get_query_dict(query_str)\n",
    "query_dict"
   ]
  },
  {
   "cell_type": "code",
   "execution_count": 94,
   "id": "a25bb4b6",
   "metadata": {},
   "outputs": [],
   "source": [
    "def fix_query(query_dict):\n",
    "    for key, val in query_dict.items():\n",
    "        if 'inc' not in val:\n",
    "            query_dict[key]['inc'] = []\n",
    "        if 'exc' not in val:\n",
    "            query_dict[key]['exc'] = []\n",
    "    return query_dict\n",
    "query_dict = fix_query(query_dict)\n",
    "\n",
    "results = findall(\n",
    "    filter_cg.tree,\n",
    "    filter_=lambda node: \n",
    "    node.filter_query(query_dict)\n",
    ")"
   ]
  },
  {
   "cell_type": "markdown",
   "id": "c33ca92e",
   "metadata": {},
   "source": [
    "### 2. Subgraph\n",
    "Filter the `ancestors` and `parents`, and use `inc-exc` to zoom in."
   ]
  },
  {
   "cell_type": "code",
   "execution_count": 90,
   "id": "be9f2a02",
   "metadata": {},
   "outputs": [],
   "source": [
    "class SearchableMixin(object):\n",
    "    \"\"\"TODO: Needs proper testing.\"\"\"\n",
    "\n",
    "    @staticmethod\n",
    "    def add_node(node, include, source):\n",
    "        # if parent not found, add directly\n",
    "        if not node.parent or not node.parent:\n",
    "            node.old_parent = None\n",
    "            node.parent = result_node\n",
    "        # if parent not found in list, add directly, but fix children issues\n",
    "        elif node.parent.name not in [i.name for i in include]:\n",
    "            node.old_parent = node.parent\n",
    "            # fix parenting issues\n",
    "            node.parent = source\n",
    "            node.parent.children = list(\n",
    "                [i for i in node.parent.children if i.name != node.name]\n",
    "            ) + [node]\n",
    "        else:\n",
    "            # TODO: dont know why this works yet ..\n",
    "            include.append(node)\n",
    "        return include\n",
    "\n",
    "    @staticmethod\n",
    "    def remove_node(node):\n",
    "        if node.parent:\n",
    "            node.parent.children = list(\n",
    "                [i for i in node.parent.children if i.name != node.name]\n",
    "            )\n",
    "\n",
    "    @staticmethod\n",
    "    def get_node_list(base_node, list_words):\n",
    "        return list(findall(\n",
    "            base_node,\n",
    "            filter_=lambda node: any(x in node.name for x in list_words)\n",
    "        ))\n",
    "\n",
    "    def subgraph_search(self, inc_list, exc_list, src_name=\"search results\", node_type=ComorbidGraphNode):\n",
    "        \"\"\"Does the ancestor filtering.\"\"\"\n",
    "\n",
    "        f = self.tree.deep_copy()\n",
    "        result_node = node_type(name=src_name)\n",
    "\n",
    "        exclude = self.get_node_list(f, exc_list)\n",
    "        include = self.get_node_list(f, inc_list)\n",
    "\n",
    "        for node in PreOrderIter(f):\n",
    "            # which nodes crossover\n",
    "            inc_ancestors = set(include) & set(list(node.ancestors) + [node])\n",
    "            if inc_ancestors:\n",
    "                inc_max_level = max([i.depth for i in inc_ancestors])\n",
    "            else:\n",
    "                inc_max_level = -1\n",
    "\n",
    "            # find nodes that are excluding this node\n",
    "            exc_ancestors = set(exclude) & set(list(node.ancestors) + [node])\n",
    "            if exc_ancestors:\n",
    "                exc_max_level = max([i.depth for i in exc_ancestors])\n",
    "            else:\n",
    "                exc_max_level = -1\n",
    "\n",
    "            # add if index of inclusion > ind-of-exclusion\n",
    "            if inc_max_level > exc_max_level:\n",
    "                include = self.add_node(\n",
    "                    node,\n",
    "                    include,\n",
    "                    result_node\n",
    "                )\n",
    "            else:\n",
    "                self.remove_node(node)\n",
    "        return result_node"
   ]
  },
  {
   "cell_type": "code",
   "execution_count": 91,
   "id": "0e7df3b0",
   "metadata": {},
   "outputs": [],
   "source": [
    "class ComorbidGraphSearchable(ComorbidGraph, SearchableMixin):\n",
    "    pass"
   ]
  },
  {
   "cell_type": "code",
   "execution_count": 92,
   "id": "7deac384",
   "metadata": {},
   "outputs": [],
   "source": [
    "search_cg = ComorbidGraphSearchable(data, FilterableNode, assign_ids=True)"
   ]
  },
  {
   "cell_type": "code",
   "execution_count": 93,
   "id": "cb69b6da",
   "metadata": {
    "scrolled": true
   },
   "outputs": [
    {
     "name": "stdout",
     "output_type": "stream",
     "text": [
      "search results\n",
      "└── seizure\n",
      "    ├── generalized seizure\n",
      "    │   ├── tonic-clonic seizure\n",
      "    │   ├── absence seizure\n",
      "    │   ├── myoclonic seizure\n",
      "    │   ├── atonic seizure\n",
      "    │   ├── clonic seizure\n",
      "    │   └── tonic seizure\n",
      "    ├── epileptic seizure\n",
      "    └── focal seizure\n",
      "        ├── complex partial seizure\n",
      "        └── simple partial seizure\n"
     ]
    }
   ],
   "source": [
    "res = search_cg.subgraph_search(\n",
    "    inc_list=['epileptic', 'seizure'],\n",
    "    exc_list=[],\n",
    "    node_type=ComorbidGraphNode\n",
    ")\n",
    "for pre, fill, node in RenderTree(res):\n",
    "    print(\"%s%s\" % (pre, node.name))"
   ]
  },
  {
   "cell_type": "markdown",
   "id": "1d203b0a",
   "metadata": {},
   "source": [
    "## Ordering Results\n",
    "There should be two options - first the graph properties.  \n",
    "Second our simple algorithm based on combination of scores - as found in `comorbid-lab`."
   ]
  },
  {
   "cell_type": "markdown",
   "id": "398761db",
   "metadata": {},
   "source": [
    "## Merging all\n",
    "Create the search language by allowing all entries.   \n",
    "Control for inputs irregularities and more."
   ]
  },
  {
   "cell_type": "code",
   "execution_count": null,
   "id": "53e10846",
   "metadata": {},
   "outputs": [],
   "source": []
  },
  {
   "cell_type": "code",
   "execution_count": null,
   "id": "2744d573",
   "metadata": {},
   "outputs": [],
   "source": []
  }
 ],
 "metadata": {
  "kernelspec": {
   "display_name": "Python 3 (ipykernel)",
   "language": "python",
   "name": "python3"
  },
  "language_info": {
   "codemirror_mode": {
    "name": "ipython",
    "version": 3
   },
   "file_extension": ".py",
   "mimetype": "text/x-python",
   "name": "python",
   "nbconvert_exporter": "python",
   "pygments_lexer": "ipython3",
   "version": "3.8.12"
  }
 },
 "nbformat": 4,
 "nbformat_minor": 5
}
