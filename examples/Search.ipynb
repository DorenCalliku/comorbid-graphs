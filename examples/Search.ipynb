{
 "cells": [
  {
   "cell_type": "code",
   "execution_count": 1,
   "id": "3149d8b4",
   "metadata": {},
   "outputs": [],
   "source": [
    "#!pip install matplotlib"
   ]
  },
  {
   "cell_type": "code",
   "execution_count": 2,
   "id": "a40dd684",
   "metadata": {},
   "outputs": [],
   "source": [
    "import json\n",
    "import pprint\n",
    "import matplotlib.pyplot as plt\n",
    "\n",
    "from anytree import PreOrderIter, RenderTree\n",
    "from anytree.search import findall\n",
    "from comorbid_graphs import ComorbidGraph, ComorbidGraphNode"
   ]
  },
  {
   "cell_type": "markdown",
   "id": "0ccce0e2",
   "metadata": {},
   "source": [
    "### Creating graph "
   ]
  },
  {
   "cell_type": "code",
   "execution_count": 3,
   "id": "a35964f3",
   "metadata": {},
   "outputs": [],
   "source": [
    "with open('../tests/fixtures/symp_tree.json') as f:\n",
    "    data = json.load(f)\n",
    "cg = ComorbidGraph(data, ComorbidGraphNode, assign_ids=True)"
   ]
  },
  {
   "cell_type": "code",
   "execution_count": 4,
   "id": "4ddcf539",
   "metadata": {},
   "outputs": [
    {
     "name": "stdout",
     "output_type": "stream",
     "text": [
      "Source\n",
      "├── symptom\n",
      "│   ├── urinary system symptom\n",
      "│   ├── general symptom\n",
      "│   ├── respiratory system and chest symptom\n",
      "│   ├── neurological and physiological symptom\n",
      "│   ├── musculoskeletal system symptom\n",
      "│   ├── nervous system symptom\n",
      "│   ├── abdominal symptom\n",
      "│   ├── head and neck symptom\n",
      "│   ├── skin and integumentary tissue symptom\n",
      "│   ├── hemic and immune system symptom\n",
      "│   ├── digestive system symptom\n",
      "│   ├── cardiovascular system symptom\n",
      "│   ├── nutrition, metabolism, and development symp\n",
      "...\n"
     ]
    }
   ],
   "source": [
    "print(cg.pretty_print_tree()[:500])\n",
    "print('...')"
   ]
  },
  {
   "cell_type": "markdown",
   "id": "3b709932",
   "metadata": {},
   "source": [
    "## Searching\n",
    "Searching should be extensible to allow sql search for larger data than KGs.\n",
    "For this we have a many step search.\n",
    "- search for ancestors, parents first\n",
    "  - get the names of these, include-exclude\n",
    "  - merge all of the nodes, merging with include-exclude\n",
    "- for docs in the ending KnowledgeGraph\n",
    "  - filter by type\n",
    "  - filter by body length\n",
    "- search in the body"
   ]
  },
  {
   "cell_type": "markdown",
   "id": "7a3b4816",
   "metadata": {},
   "source": [
    "### Notes\n",
    "**1. Networkx Graph**    \n",
    "first I tried to turn the ComorbidGraph into a networkx graph and then filter-out what I needed - [docs](https://networkx.org/documentation/stable/reference/generated/networkx.classes.function.subgraph_view.html#networkx.classes.function.subgraph_view)\n",
    "\n",
    "**2. Anytree Rocks!**   \n",
    "Then I realize, I could keep it simple with the right kind of iteration, and this would be so much better in terms of complexity of code. <3"
   ]
  },
  {
   "cell_type": "markdown",
   "id": "12fe4d5b",
   "metadata": {},
   "source": [
    "### 1. Subgraph\n",
    "Filter the `ancestors` and `parents`, and use `inc-exc` to zoom in."
   ]
  },
  {
   "cell_type": "code",
   "execution_count": 17,
   "id": "16a571bc",
   "metadata": {},
   "outputs": [],
   "source": [
    "class SearchableMixin(object):\n",
    "    \n",
    "    def get_node_list(self, list_words):\n",
    "        return list(findall(\n",
    "            self.tree,\n",
    "            filter_=lambda node: any(x in node.name for x in list_words)\n",
    "        ))\n",
    "\n",
    "    def get_results(self, inc_list, exc_list, src_name=\"result\"):\n",
    "        \"\"\"Does the ancestor filtering\"\"\"\n",
    "\n",
    "        f = self.tree\n",
    "        #print(f.pretty_print_tree())\n",
    "        result_node = ComorbidGraphNode(name=\"result\")\n",
    "\n",
    "        exclude = self.get_node_list(list_words=exc_list)\n",
    "        include = self.get_node_list(list_words=inc_list)\n",
    "\n",
    "        def add_node(node):\n",
    "            # if parent not found, add directly\n",
    "            if not node.parent or not node.parent:\n",
    "                node.old_parent = None\n",
    "                node.parent = result_node\n",
    "            # if parent not found in list, add directly, but fix children issues\n",
    "            elif node.parent.name not in [i.name for i in include]:\n",
    "                node.old_parent = node.parent\n",
    "                # fix parenting issues\n",
    "                node.parent = result_node\n",
    "                node.parent.children = list(\n",
    "                    [i for i in node.parent.children if i.name != node.name]\n",
    "                ) + [node]\n",
    "            else:\n",
    "                # TODO: dont know why this works yet ..\n",
    "                include.append(node)\n",
    "\n",
    "        def remove_node(node):\n",
    "            if node.parent:\n",
    "                node.parent.children = list(\n",
    "                    [i for i in node.parent.children if i.name != node.name]\n",
    "                )\n",
    "\n",
    "        for node in PreOrderIter(f):\n",
    "            # which nodes crossover\n",
    "            inc_ancestors = set(include) & set(list(node.ancestors) + [node])\n",
    "            if inc_ancestors:\n",
    "                inc_max_level = max([len(i.ancestors) for i in inc_ancestors])\n",
    "            else:\n",
    "                inc_max_level = -1\n",
    "\n",
    "            # find nodes that are excluding this node\n",
    "            exc_ancestors = set(exclude) & set(list(node.ancestors) + [node])\n",
    "            if exc_ancestors:\n",
    "                exc_max_level = max([len(i.ancestors) for i in exc_ancestors])\n",
    "            else:\n",
    "                exc_max_level = -1\n",
    "\n",
    "            if inc_max_level > exc_max_level:\n",
    "                add_node(node)\n",
    "            else:\n",
    "                remove_node(node)\n",
    "        return result_node"
   ]
  },
  {
   "cell_type": "code",
   "execution_count": 21,
   "id": "b82e6579",
   "metadata": {},
   "outputs": [],
   "source": [
    "class ComorbidGraphSearchable(ComorbidGraph, SearchableMixin):\n",
    "    pass"
   ]
  },
  {
   "cell_type": "code",
   "execution_count": 28,
   "id": "77481518",
   "metadata": {},
   "outputs": [
    {
     "name": "stdout",
     "output_type": "stream",
     "text": [
      "result\n",
      "└── nervous system symptom\n",
      "    ├── coordination symptom\n",
      "    │   ├── lack of coordination\n",
      "    │   │   └── incoordination\n",
      "    │   └── impaired coordination\n",
      "    ├── sensation perception\n",
      "    │   ├── hypoalgesia\n",
      "    │   ├── hyperalgesia\n",
      "    │   ├── hypoesthesia\n",
      "    │   └── hyperesthesia\n",
      "    ├── aphasia\n",
      "    │   ├── alexia\n",
      "    │   ├── expressive aphasia\n",
      "    │   ├── inability to comprehend speech\n",
      "    │   │   └── receptive aphasia\n",
      "    │   ├── inability to form words\n",
      "    │   ├── poor enunciation\n",
      "    │   ├── inability to speak\n",
      "    │   ├── agraphia\n",
      "    │   └── anomia\n",
      "    ├── paralysis\n",
      "    │   ├── transient paralysis of limb\n",
      "    │   ├── motor paralysis\n",
      "    │   ├── spastic paralysis\n",
      "    │   ├── paraplegia\n",
      "    │   ├── lip paralysis\n",
      "    │   ├── throat muscle paralysis\n",
      "    │   ├── ophthalmoplegia\n",
      "    │   ├── proximal paralysis of arm and leg\n",
      "    │   ├── respiratory paralysis\n",
      "    │   ├── hind limb paralysis\n",
      "    │   │   └── partial hind limb paralysis\n",
      "    │   ├── pareses\n",
      "    │   ├── extraocular muscles paralysis\n",
      "    │   ├── facial paralysis\n",
      "    │   ├── flaccid paralysis\n",
      "    │   └── hemiparesis\n",
      "    ├── behavioral symptom\n",
      "    │   ├── hyperactivity\n",
      "    │   ├── limited attention\n",
      "    │   ├── communication difficulty\n",
      "    │   ├── obsessive interests\n",
      "    │   ├── repetitive behavior\n",
      "    │   ├── irritability\n",
      "    │   ├── abnormal behavior\n",
      "    │   └── aggressive behavior\n",
      "    ├── meningismus\n",
      "    ├── neurologic neglect syndrome\n",
      "    ├── disturbances of sensation of smell and taste\n",
      "    ├── spondylitis\n",
      "    ├── meningitis\n",
      "    ├── convulsion\n",
      "    │   ├── febrile convulsion\n",
      "    │   └── tetanic convulsion\n",
      "    │       └── mild tetanic convulsion\n",
      "    ├── abnormal involuntary movement\n",
      "    │   └── circling movement\n",
      "    ├── seizure\n",
      "    │   ├── generalized seizure\n",
      "    │   │   ├── tonic-clonic seizure\n",
      "    │   │   ├── absence seizure\n",
      "    │   │   ├── myoclonic seizure\n",
      "    │   │   ├── atonic seizure\n",
      "    │   │   ├── clonic seizure\n",
      "    │   │   └── tonic seizure\n",
      "    │   ├── epileptic seizure\n",
      "    │   └── focal seizure\n",
      "    │       ├── complex partial seizure\n",
      "    │       └── simple partial seizure\n",
      "    ├── spasticity\n",
      "    ├── encephalitis\n",
      "    │   └── mild encephalitis\n",
      "    ├── reflex symptom\n",
      "    │   ├── hyperreflexia\n",
      "    │   ├── impaired gag reflex\n",
      "    │   ├── loss of tendon reflex\n",
      "    │   ├── areflexia\n",
      "    │   │   ├── absence of knee jerk reflex\n",
      "    │   │   └── absent gag reflex\n",
      "    │   ├── decreased flexor withdrawal reflex\n",
      "    │   └── diminished gag reflex\n",
      "    ├── meningoencephalitis\n",
      "    │   └── acute meningoencephalitis\n",
      "    ├── neurological dysfunction\n",
      "    │   └── acute cranial nerve dysfunction\n",
      "    ├── diminished spontaneous movement\n",
      "    ├── stroke\n",
      "    ├── neurological alteration\n",
      "    ├── acute mental dysfunction\n",
      "    ├── brain cyst\n",
      "    ├── altered mental status\n",
      "    ├── decreased motor response\n",
      "    └── floppy head\n"
     ]
    }
   ],
   "source": [
    "search_cg = ComorbidGraphSearchable(data, ComorbidGraphNode, assign_ids=True)\n",
    "res = search_cg.get_results(['nervous system'], ['pain'])\n",
    "for pre, fill, node in RenderTree(res):\n",
    "    print(\"%s%s\" % (pre, node.name))"
   ]
  },
  {
   "cell_type": "markdown",
   "id": "3a863d1c",
   "metadata": {},
   "source": [
    "### 2. Filtering\n",
    "Filter based on node properties if included or not - `name`, `type`, `body-length`.\n"
   ]
  },
  {
   "cell_type": "markdown",
   "id": "bb7e92d5",
   "metadata": {},
   "source": [
    "### 3. Content\n",
    "Filter if a certain word or combination of words is found in the document.\n"
   ]
  },
  {
   "cell_type": "markdown",
   "id": "da068ec2",
   "metadata": {},
   "source": [
    "## Ordering Results\n",
    "There should be two options - first the graph properties, second our simple algorithm based on combination of scores - as found in `very-comorbid`."
   ]
  },
  {
   "cell_type": "markdown",
   "id": "59b8e9ec",
   "metadata": {},
   "source": [
    "## Merging all\n",
    "Create the search language by allowing all entries.   \n",
    "Control for inputs irregularities and more."
   ]
  },
  {
   "cell_type": "code",
   "execution_count": 8,
   "id": "923d2733",
   "metadata": {},
   "outputs": [],
   "source": [
    "DIRECTION = ['inc_', 'exc_', 'include_', 'exclude_']\n",
    "FILTERS = ['name', 'phrase', 'type', 'text_longer', 'ancestor', 'parent']"
   ]
  },
  {
   "cell_type": "code",
   "execution_count": 9,
   "id": "eda14a22",
   "metadata": {},
   "outputs": [],
   "source": [
    "query_str = \"\"\"\n",
    "inc_phrase:anxiety\n",
    "inc_title:Disorder\n",
    "inc_type:document\n",
    "inc_text_longer:300\n",
    "exc_ancestor:Neurodevelopmental Disorders\n",
    "\"\"\""
   ]
  },
  {
   "cell_type": "code",
   "execution_count": 10,
   "id": "b64deb3c",
   "metadata": {},
   "outputs": [
    {
     "data": {
      "text/plain": [
       "['inc_phrase:anxiety',\n",
       " 'inc_parent:DSM-V',\n",
       " 'inc_title:Disorder',\n",
       " 'inc_type:document',\n",
       " 'inc_text_longer:300',\n",
       " 'exc_ancestor:Neurodevelopmental Disorders']"
      ]
     },
     "execution_count": 10,
     "metadata": {},
     "output_type": "execute_result"
    }
   ],
   "source": [
    "def clean_query(query_str):\n",
    "    query_str.replace('  ',' ').replace('\\n',' ')\n",
    "    for i in DIRECTION:\n",
    "        query_str = query_str.replace(i, '_BREAK_'+ i)\n",
    "    return [\n",
    "        i.rstrip().lstrip()\n",
    "        for i in query_str.split('_BREAK_')\n",
    "        if i.rstrip().lstrip() != ''\n",
    "    ]\n",
    "clean_query(query_str)"
   ]
  },
  {
   "cell_type": "code",
   "execution_count": null,
   "id": "a05ebe6d",
   "metadata": {},
   "outputs": [],
   "source": []
  },
  {
   "cell_type": "code",
   "execution_count": null,
   "id": "53e10846",
   "metadata": {},
   "outputs": [],
   "source": []
  }
 ],
 "metadata": {
  "kernelspec": {
   "display_name": "Python 3 (ipykernel)",
   "language": "python",
   "name": "python3"
  },
  "language_info": {
   "codemirror_mode": {
    "name": "ipython",
    "version": 3
   },
   "file_extension": ".py",
   "mimetype": "text/x-python",
   "name": "python",
   "nbconvert_exporter": "python",
   "pygments_lexer": "ipython3",
   "version": "3.8.12"
  }
 },
 "nbformat": 4,
 "nbformat_minor": 5
}
