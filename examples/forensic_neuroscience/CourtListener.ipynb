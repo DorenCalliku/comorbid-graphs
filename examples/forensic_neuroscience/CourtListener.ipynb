{
 "cells": [
  {
   "cell_type": "code",
   "execution_count": 6,
   "id": "dc530058",
   "metadata": {},
   "outputs": [],
   "source": [
    "import json, requests, time\n",
    "from bs4 import BeautifulSoup as BS\n",
    "from collections import Counter"
   ]
  },
  {
   "cell_type": "code",
   "execution_count": 7,
   "id": "f71a18e1",
   "metadata": {},
   "outputs": [],
   "source": [
    "def search_cl_result(query):\n",
    "    \"\"\"Search in opinions.\"\"\"\n",
    "    OPTIONS = \"\"\"&type=o&order_by=dateFiled%20desc&stat_Precedential=on\"\"\"\n",
    "    BASE = \"https://www.courtlistener.com/api/rest/v3/search/?\"\n",
    "\n",
    "    r = requests.get(BASE+str('q=\"'+query+'\"'+OPTIONS))\n",
    "    if r.status_code != 200:\n",
    "        raise Exception('Query not working properly. Try later.')\n",
    "    data = json.loads(r.content.decode('utf-8'))\n",
    "    return data\n",
    "\n",
    "def get_cl_result(opinion_no):\n",
    "    BASE = \"https://www.courtlistener.com/api/rest/v3/opinions/\"\n",
    "\n",
    "    r = requests.get(BASE+str(opinion_no))\n",
    "    if r.status_code != 200:\n",
    "        raise Exception('Extraction not done properly.')\n",
    "    data = json.loads(r.content.decode('utf-8'))\n",
    "    return data\n",
    "\n",
    "\n",
    "def extract_text(r_data):\n",
    "    if not r_data:\n",
    "        return None\n",
    "    text = \"\"\n",
    "    for each in r_data.keys():\n",
    "        if each.startswith('html') and each != \"html_with_citations\":\n",
    "            text += r_data[each]\n",
    "    filtered_text = BS(text,'html.parser').get_text()\n",
    "    return filtered_text\n",
    "    "
   ]
  },
  {
   "cell_type": "code",
   "execution_count": 8,
   "id": "2d090868",
   "metadata": {},
   "outputs": [],
   "source": [
    "def query_american_court(query):\n",
    "    data = search_cl_result(query)\n",
    "    total_data = []\n",
    "    for i in data['results']:\n",
    "        print(i['id'])\n",
    "        try:\n",
    "            total_data.append(get_cl_result(i['id']))\n",
    "        except Exception as e:\n",
    "            print(e)\n",
    "            break\n",
    "    cleaned_total = []\n",
    "    for i, item in enumerate(total_data):\n",
    "        cleaned_total.append(\n",
    "            {\n",
    "                \"id\": item['id'],\n",
    "                \"name\": data['results'][i]['caseName'],\n",
    "                \"body\": item['plain_text'],\n",
    "                \"node\": item\n",
    "            }\n",
    "        )\n",
    "    with open('disease_cases/' + query.replace(' ', '_') + '.json', 'w+') as f:\n",
    "        json.dump(cleaned_total, f)"
   ]
  },
  {
   "cell_type": "code",
   "execution_count": 9,
   "id": "22de49f7",
   "metadata": {
    "scrolled": true
   },
   "outputs": [],
   "source": [
    "diseases = [\n",
    "    'major depressive disorder',\n",
    "    'dissociative disorder',\n",
    "    'Posttraumatic stress disorder',\n",
    "    'Dissociative identity disorder',\n",
    "    'pyromania',\n",
    "    'bipolar disorder',\n",
    "    'schizophrenia',\n",
    "    'delusional disorder',\n",
    "    'obsessive-compulsive disorder',\n",
    "    'gender dysphoria'\n",
    "]"
   ]
  },
  {
   "cell_type": "code",
   "execution_count": 10,
   "id": "37ac61be",
   "metadata": {},
   "outputs": [
    {
     "name": "stdout",
     "output_type": "stream",
     "text": [
      "Dissociative identity disorder\n"
     ]
    },
    {
     "ename": "Exception",
     "evalue": "Query not working properly. Try later.",
     "output_type": "error",
     "traceback": [
      "\u001b[0;31m---------------------------------------------------------------------------\u001b[0m",
      "\u001b[0;31mException\u001b[0m                                 Traceback (most recent call last)",
      "\u001b[0;32m/tmp/ipykernel_118793/317576732.py\u001b[0m in \u001b[0;36m<module>\u001b[0;34m\u001b[0m\n\u001b[1;32m      1\u001b[0m \u001b[0;32mfor\u001b[0m \u001b[0mdis\u001b[0m \u001b[0;32min\u001b[0m \u001b[0mdiseases\u001b[0m\u001b[0;34m[\u001b[0m\u001b[0;36m3\u001b[0m\u001b[0;34m:\u001b[0m\u001b[0;34m]\u001b[0m\u001b[0;34m:\u001b[0m\u001b[0;34m\u001b[0m\u001b[0;34m\u001b[0m\u001b[0m\n\u001b[1;32m      2\u001b[0m     \u001b[0mprint\u001b[0m\u001b[0;34m(\u001b[0m\u001b[0mdis\u001b[0m\u001b[0;34m)\u001b[0m\u001b[0;34m\u001b[0m\u001b[0;34m\u001b[0m\u001b[0m\n\u001b[0;32m----> 3\u001b[0;31m     \u001b[0mquery_american_court\u001b[0m\u001b[0;34m(\u001b[0m\u001b[0mdis\u001b[0m\u001b[0;34m)\u001b[0m\u001b[0;34m\u001b[0m\u001b[0;34m\u001b[0m\u001b[0m\n\u001b[0m\u001b[1;32m      4\u001b[0m     \u001b[0mprint\u001b[0m\u001b[0;34m(\u001b[0m\u001b[0;34m)\u001b[0m\u001b[0;34m\u001b[0m\u001b[0;34m\u001b[0m\u001b[0m\n\u001b[1;32m      5\u001b[0m     \u001b[0mtime\u001b[0m\u001b[0;34m.\u001b[0m\u001b[0msleep\u001b[0m\u001b[0;34m(\u001b[0m\u001b[0;36m120\u001b[0m\u001b[0;34m)\u001b[0m\u001b[0;34m\u001b[0m\u001b[0;34m\u001b[0m\u001b[0m\n",
      "\u001b[0;32m/tmp/ipykernel_118793/3233398683.py\u001b[0m in \u001b[0;36mquery_american_court\u001b[0;34m(query)\u001b[0m\n\u001b[1;32m      1\u001b[0m \u001b[0;32mdef\u001b[0m \u001b[0mquery_american_court\u001b[0m\u001b[0;34m(\u001b[0m\u001b[0mquery\u001b[0m\u001b[0;34m)\u001b[0m\u001b[0;34m:\u001b[0m\u001b[0;34m\u001b[0m\u001b[0;34m\u001b[0m\u001b[0m\n\u001b[0;32m----> 2\u001b[0;31m     \u001b[0mdata\u001b[0m \u001b[0;34m=\u001b[0m \u001b[0msearch_cl_result\u001b[0m\u001b[0;34m(\u001b[0m\u001b[0mquery\u001b[0m\u001b[0;34m)\u001b[0m\u001b[0;34m\u001b[0m\u001b[0;34m\u001b[0m\u001b[0m\n\u001b[0m\u001b[1;32m      3\u001b[0m     \u001b[0mtotal_data\u001b[0m \u001b[0;34m=\u001b[0m \u001b[0;34m[\u001b[0m\u001b[0;34m]\u001b[0m\u001b[0;34m\u001b[0m\u001b[0;34m\u001b[0m\u001b[0m\n\u001b[1;32m      4\u001b[0m     \u001b[0;32mfor\u001b[0m \u001b[0mi\u001b[0m \u001b[0;32min\u001b[0m \u001b[0mdata\u001b[0m\u001b[0;34m[\u001b[0m\u001b[0;34m'results'\u001b[0m\u001b[0;34m]\u001b[0m\u001b[0;34m:\u001b[0m\u001b[0;34m\u001b[0m\u001b[0;34m\u001b[0m\u001b[0m\n\u001b[1;32m      5\u001b[0m         \u001b[0mprint\u001b[0m\u001b[0;34m(\u001b[0m\u001b[0mi\u001b[0m\u001b[0;34m[\u001b[0m\u001b[0;34m'id'\u001b[0m\u001b[0;34m]\u001b[0m\u001b[0;34m)\u001b[0m\u001b[0;34m\u001b[0m\u001b[0;34m\u001b[0m\u001b[0m\n",
      "\u001b[0;32m/tmp/ipykernel_118793/4229821149.py\u001b[0m in \u001b[0;36msearch_cl_result\u001b[0;34m(query)\u001b[0m\n\u001b[1;32m      6\u001b[0m     \u001b[0mr\u001b[0m \u001b[0;34m=\u001b[0m \u001b[0mrequests\u001b[0m\u001b[0;34m.\u001b[0m\u001b[0mget\u001b[0m\u001b[0;34m(\u001b[0m\u001b[0mBASE\u001b[0m\u001b[0;34m+\u001b[0m\u001b[0mstr\u001b[0m\u001b[0;34m(\u001b[0m\u001b[0;34m'q=\"'\u001b[0m\u001b[0;34m+\u001b[0m\u001b[0mquery\u001b[0m\u001b[0;34m+\u001b[0m\u001b[0;34m'\"'\u001b[0m\u001b[0;34m+\u001b[0m\u001b[0mOPTIONS\u001b[0m\u001b[0;34m)\u001b[0m\u001b[0;34m)\u001b[0m\u001b[0;34m\u001b[0m\u001b[0;34m\u001b[0m\u001b[0m\n\u001b[1;32m      7\u001b[0m     \u001b[0;32mif\u001b[0m \u001b[0mr\u001b[0m\u001b[0;34m.\u001b[0m\u001b[0mstatus_code\u001b[0m \u001b[0;34m!=\u001b[0m \u001b[0;36m200\u001b[0m\u001b[0;34m:\u001b[0m\u001b[0;34m\u001b[0m\u001b[0;34m\u001b[0m\u001b[0m\n\u001b[0;32m----> 8\u001b[0;31m         \u001b[0;32mraise\u001b[0m \u001b[0mException\u001b[0m\u001b[0;34m(\u001b[0m\u001b[0;34m'Query not working properly. Try later.'\u001b[0m\u001b[0;34m)\u001b[0m\u001b[0;34m\u001b[0m\u001b[0;34m\u001b[0m\u001b[0m\n\u001b[0m\u001b[1;32m      9\u001b[0m     \u001b[0mdata\u001b[0m \u001b[0;34m=\u001b[0m \u001b[0mjson\u001b[0m\u001b[0;34m.\u001b[0m\u001b[0mloads\u001b[0m\u001b[0;34m(\u001b[0m\u001b[0mr\u001b[0m\u001b[0;34m.\u001b[0m\u001b[0mcontent\u001b[0m\u001b[0;34m.\u001b[0m\u001b[0mdecode\u001b[0m\u001b[0;34m(\u001b[0m\u001b[0;34m'utf-8'\u001b[0m\u001b[0;34m)\u001b[0m\u001b[0;34m)\u001b[0m\u001b[0;34m\u001b[0m\u001b[0;34m\u001b[0m\u001b[0m\n\u001b[1;32m     10\u001b[0m     \u001b[0;32mreturn\u001b[0m \u001b[0mdata\u001b[0m\u001b[0;34m\u001b[0m\u001b[0;34m\u001b[0m\u001b[0m\n",
      "\u001b[0;31mException\u001b[0m: Query not working properly. Try later."
     ]
    }
   ],
   "source": [
    "for dis in diseases[3:]:\n",
    "    print(dis)\n",
    "    query_american_court(dis)\n",
    "    print()\n",
    "    time.sleep(120)"
   ]
  },
  {
   "cell_type": "code",
   "execution_count": null,
   "id": "1a146228",
   "metadata": {},
   "outputs": [],
   "source": []
  }
 ],
 "metadata": {
  "kernelspec": {
   "display_name": "Python 3 (ipykernel)",
   "language": "python",
   "name": "python3"
  },
  "language_info": {
   "codemirror_mode": {
    "name": "ipython",
    "version": 3
   },
   "file_extension": ".py",
   "mimetype": "text/x-python",
   "name": "python",
   "nbconvert_exporter": "python",
   "pygments_lexer": "ipython3",
   "version": "3.8.12"
  }
 },
 "nbformat": 4,
 "nbformat_minor": 5
}
