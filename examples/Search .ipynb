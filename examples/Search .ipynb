{
 "cells": [
  {
   "cell_type": "code",
   "execution_count": 1,
   "id": "a40dd684",
   "metadata": {},
   "outputs": [],
   "source": [
    "import pprint\n",
    "from comorbid_graphs import ComorbidGraph, ComorbidGraphNode"
   ]
  },
  {
   "cell_type": "code",
   "execution_count": 3,
   "id": "2b9ba29b",
   "metadata": {},
   "outputs": [],
   "source": [
    "def get_structured_query(query_str):\n",
    "    # separate string into groups\n",
    "    val = [\n",
    "        i.rstrip().lstrip()\n",
    "        for i in query_str.replace('  ',' ').replace('\\n',' ').split('AND')\n",
    "        if i !=''\n",
    "    ]\n",
    "\n",
    "    # extract main entity-action-items\n",
    "    query_list = []\n",
    "    for line in val:\n",
    "        entity_index = line.find(' ')\n",
    "        action_index = line.find(' ', entity_index+1)\n",
    "\n",
    "        query_list.append(\n",
    "            {\n",
    "                \"entity\": line[:entity_index],\n",
    "                \"action\": line[entity_index+1:action_index],\n",
    "                \"items\": line[action_index+1:].split(',')\n",
    "            }\n",
    "        )\n",
    "    return validate_query(query_list)"
   ]
  },
  {
   "cell_type": "code",
   "execution_count": null,
   "id": "703ee8ee",
   "metadata": {},
   "outputs": [],
   "source": [
    "parameters = ['title_like', 'phrases_like', 'ancestors_like', 'parents_like', 'body_longer']\n",
    "include_exclude = ['inc_', 'exc_']\n",
    "pprint.pprint([i.replace('inc_','') for i in options])"
   ]
  },
  {
   "cell_type": "code",
   "execution_count": null,
   "id": "a35964f3",
   "metadata": {},
   "outputs": [],
   "source": []
  },
  {
   "cell_type": "code",
   "execution_count": null,
   "id": "cb3b7928",
   "metadata": {},
   "outputs": [],
   "source": []
  }
 ],
 "metadata": {
  "kernelspec": {
   "display_name": "Python 3 (ipykernel)",
   "language": "python",
   "name": "python3"
  },
  "language_info": {
   "codemirror_mode": {
    "name": "ipython",
    "version": 3
   },
   "file_extension": ".py",
   "mimetype": "text/x-python",
   "name": "python",
   "nbconvert_exporter": "python",
   "pygments_lexer": "ipython3",
   "version": "3.8.12"
  }
 },
 "nbformat": 4,
 "nbformat_minor": 5
}
