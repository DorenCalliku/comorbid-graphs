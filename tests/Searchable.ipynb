{
 "cells": [
  {
   "cell_type": "code",
   "execution_count": 1,
   "id": "3149d8b4",
   "metadata": {},
   "outputs": [],
   "source": [
    "#!pip install matplotlib\n",
    "#!pip install ."
   ]
  },
  {
   "cell_type": "code",
   "execution_count": 2,
   "id": "a40dd684",
   "metadata": {},
   "outputs": [],
   "source": [
    "from comorbid_graphs import ComorbidGraph, ComorbidGraphNode\n",
    "from anytree import PostOrderIter"
   ]
  },
  {
   "cell_type": "markdown",
   "id": "0ccce0e2",
   "metadata": {},
   "source": [
    "### Creating graph "
   ]
  },
  {
   "cell_type": "code",
   "execution_count": 3,
   "id": "a35964f3",
   "metadata": {},
   "outputs": [],
   "source": [
    "import json\n",
    "with open('../tests/fixtures/symp_tree.json') as f:\n",
    "    data = json.load(f)\n",
    "simple_cg = ComorbidGraph(data, ComorbidGraphNode, assign_ids=True)"
   ]
  },
  {
   "cell_type": "code",
   "execution_count": 4,
   "id": "7c509d0c",
   "metadata": {},
   "outputs": [
    {
     "data": {
      "text/plain": [
       "ComorbidGraphNode('/Source', id=1, score=0, type='default')"
      ]
     },
     "execution_count": 4,
     "metadata": {},
     "output_type": "execute_result"
    }
   ],
   "source": [
    "simple_cg.tree"
   ]
  },
  {
   "cell_type": "code",
   "execution_count": 5,
   "id": "6509ec0f",
   "metadata": {},
   "outputs": [],
   "source": [
    "result_cg = simple_cg.simple_search(\"nervous,headache\", ComorbidGraphNode)\n",
    "# result_cg.tree.children"
   ]
  },
  {
   "cell_type": "code",
   "execution_count": 6,
   "id": "9d10cae8",
   "metadata": {},
   "outputs": [
    {
     "name": "stdout",
     "output_type": "stream",
     "text": [
      "search_results\n",
      "├── hallucination\n",
      "├── abnormality of gait\n",
      "├── ataxia\n",
      "├── dysarthria\n",
      "└── nervous system symptom\n",
      "    ├── stroke\n",
      "    ├── paralysis\n",
      "    ├── meningismus\n",
      "    ├── aphasia\n",
      "    ├── meningitis\n",
      "    ├── meningoencephalitis\n",
      "    ├── spondylitis\n",
      "    ├── behavioral symptom\n",
      "    └── sensation perception\n",
      "        ├── nociceptive pain\n",
      "        └── headache\n",
      "            ├── bifrontal headache\n",
      "            ├── frontal headache\n",
      "            └── severe headache\n"
     ]
    }
   ],
   "source": [
    "from anytree import RenderTree\n",
    "\n",
    "for row in RenderTree(result_cg.tree, childiter=result_cg.order_by_score):\n",
    "    print(\"%s%s\" % (row.pre, row.node.name))"
   ]
  },
  {
   "cell_type": "markdown",
   "id": "3b709932",
   "metadata": {},
   "source": [
    "## Searching\n",
    "Searching should be extensible to allow sql search for larger data than KGs.\n",
    "For this we have a many step search.\n",
    "- search for ancestors, parents first\n",
    "  - get the names of these, include-exclude\n",
    "  - merge all of the nodes, merging with include-exclude\n",
    "- for docs in the ending KnowledgeGraph\n",
    "  - filter by type\n",
    "  - filter by body length\n",
    "- search in the body"
   ]
  },
  {
   "cell_type": "code",
   "execution_count": 7,
   "id": "f9df9c44",
   "metadata": {},
   "outputs": [],
   "source": [
    "with open('../tests/fixtures/symp_tree.json') as f:\n",
    "    data = json.load(f)\n",
    "cg = ComorbidGraph(data, ComorbidGraphNode, assign_ids=True, root_name='symp_tree')\n",
    "test_node = cg.tree.children[0]\n",
    "test_node_content = [i for i in PostOrderIter(cg.tree) if hasattr(i, 'body')][0]"
   ]
  },
  {
   "cell_type": "markdown",
   "id": "5e3d5604",
   "metadata": {},
   "source": [
    "### 1. Filtering\n",
    "Filter based on node properties if included or not - `name`, `parent`, `type`, `body-length`, `content`.\n"
   ]
  },
  {
   "cell_type": "code",
   "execution_count": 8,
   "id": "399ab469",
   "metadata": {},
   "outputs": [],
   "source": [
    "assert test_node._score_name([test_node.name.lower()], [])\n",
    "assert test_node._score_parent([test_node.parent.name.lower()],[])\n",
    "assert test_node._score_type(['default'],[])\n",
    "\n",
    "# text-length checks\n",
    "# check first node that has no content\n",
    "assert not cg.tree._score_text_length([0],[])\n",
    "\n",
    "# check a node with content\n",
    "assert test_node_content._score_text_length([0],[])\n",
    "assert test_node_content._score_content([test_node_content.body.lower()],[])\n"
   ]
  },
  {
   "cell_type": "markdown",
   "id": "4f8a930c",
   "metadata": {},
   "source": [
    "### 2. Content\n",
    "Filtering the body for keywords.\n",
    "But it shouldnt be like the previous case, because loading the body of many of these guys will tire the machine - so will have to allow a filtering done by an en engine (like `sqlite`-engine) which are optimized for these kinds of updates."
   ]
  },
  {
   "cell_type": "code",
   "execution_count": 9,
   "id": "23184bbd",
   "metadata": {},
   "outputs": [],
   "source": [
    "assert test_node_content.apply_lbl_content_filter(\n",
    "    {\"content\": {\"inc\":[test_node_content.body.lower()], \"exc\":[]}}\n",
    ")"
   ]
  },
  {
   "cell_type": "markdown",
   "id": "c33ca92e",
   "metadata": {},
   "source": [
    "### 3. Subgraph\n",
    "Filter the `ancestors`, and use `inc-exc` to zoom in."
   ]
  },
  {
   "cell_type": "code",
   "execution_count": 10,
   "id": "36cf25db",
   "metadata": {
    "scrolled": true
   },
   "outputs": [
    {
     "name": "stdout",
     "output_type": "stream",
     "text": [
      "subgraph results\n",
      "└── nervous system symptom - subgraph results\n",
      "    ├── coordination symptom\n",
      "    │   ├── lack of coordination\n",
      "    │   │   └── incoordination\n",
      "    │   └── impaired coordination\n",
      "    ├── paralysis\n",
      "    │   ├── transient paralysis of limb\n",
      "    │   ├── motor paralysis\n",
      "    │   ├── spastic paralysis\n",
      "    │   ├── paraplegia\n",
      "    │   ├── lip paralysis\n",
      "    │   ├── throat muscle paralysis\n",
      "    │   ├── ophthalmoplegia\n",
      "    │   ├── proximal paralysis of arm and leg\n",
      "    │   ├── respiratory paralysis\n",
      "    │   ├── hind limb paralysis\n",
      "    │   │   └── partial hind limb paralysis\n",
      "    │   ├── pareses\n",
      "    │   ├── extraocular muscles paralysis\n",
      "    │   ├── facial paralysis\n",
      "    │   ├── flaccid paralysis\n",
      "    │   └── hemiparesis\n",
      "    ├── behavioral symptom\n",
      "    │   ├── hyperactivity\n",
      "    │   ├── limited attention\n",
      "    │   ├── communication difficulty\n",
      "    │   ├── obsessive interests\n",
      "    │   ├── repetitive behavior\n",
      "    │   ├── irritability\n",
      "    │   ├── abnormal behavior\n",
      "    │   └── aggressive behavior\n",
      "    ├── meningismus\n",
      "    ├── neurologic neglect syndrome\n",
      "    ├── disturbances of sensation of smell and taste\n",
      "    ├── spondylitis\n",
      "    ├── meningitis\n",
      "    ├── convulsion\n",
      "    │   ├── febrile convulsion\n",
      "    │   └── tetanic convulsion\n",
      "    │       └── mild tetanic convulsion\n",
      "    ├── abnormal involuntary movement\n",
      "    │   └── circling movement\n",
      "    ├── seizure\n",
      "    │   ├── generalized seizure\n",
      "    │   │   ├── tonic-clonic seizure\n",
      "    │   │   ├── absence seizure\n",
      "    │   │   ├── myoclonic seizure\n",
      "    │   │   ├── atonic seizure\n",
      "    │   │   ├── clonic seizure\n",
      "    │   │   └── tonic seizure\n",
      "    │   ├── epileptic seizure\n",
      "    │   └── focal seizure\n",
      "    │       ├── complex partial seizure\n",
      "    │       └── simple partial seizure\n",
      "    ├── spasticity\n",
      "    ├── encephalitis\n",
      "    │   └── mild encephalitis\n",
      "    ├── reflex symptom\n",
      "    │   ├── hyperreflexia\n",
      "    │   ├── impaired gag reflex\n",
      "    │   ├── loss of tendon reflex\n",
      "    │   ├── areflexia\n",
      "    │   │   ├── absence of knee jerk reflex\n",
      "    │   │   └── absent gag reflex\n",
      "    │   ├── decreased flexor withdrawal reflex\n",
      "    │   └── diminished gag reflex\n",
      "    ├── meningoencephalitis\n",
      "    │   └── acute meningoencephalitis\n",
      "    ├── neurological dysfunction\n",
      "    │   └── acute cranial nerve dysfunction\n",
      "    ├── diminished spontaneous movement\n",
      "    ├── stroke\n",
      "    ├── neurological alteration\n",
      "    ├── acute mental dysfunction\n",
      "    ├── brain cyst\n",
      "    ├── altered mental status\n",
      "    ├── decreased motor response\n",
      "    └── floppy head\n"
     ]
    }
   ],
   "source": [
    "subgraph = cg.filter_subgraph(\n",
    "    inc_list=['nervous system'], exc_list=['pain', 'aphasia', 'sensation perception'], base_name='subgraph results'\n",
    ")\n",
    "for pre, fill, node in RenderTree(subgraph):\n",
    "    if hasattr(node, 'old_parent') and hasattr(node.old_parent, 'name'):\n",
    "        print(\"%s%s - %s\" % (pre, node.name, node.old_parent.name))\n",
    "    else:\n",
    "        print(\"%s%s\" % (pre, node.name))"
   ]
  },
  {
   "cell_type": "code",
   "execution_count": 11,
   "id": "9675c11e",
   "metadata": {
    "scrolled": true
   },
   "outputs": [
    {
     "name": "stdout",
     "output_type": "stream",
     "text": [
      "source\n",
      "└── nervous system symptom - subgraph results\n",
      "    ├── coordination symptom\n",
      "    │   ├── lack of coordination\n",
      "    │   │   └── incoordination\n",
      "    │   └── impaired coordination\n",
      "    ├── paralysis\n",
      "    │   ├── transient paralysis of limb\n",
      "    │   ├── motor paralysis\n",
      "    │   ├── spastic paralysis\n",
      "    │   ├── paraplegia\n",
      "    │   ├── lip paralysis\n",
      "    │   ├── throat muscle paralysis\n",
      "    │   ├── ophthalmoplegia\n",
      "    │   ├── proximal paralysis of arm and leg\n",
      "    │   ├── respiratory paralysis\n",
      "    │   ├── hind limb paralysis\n",
      "    │   │   └── partial hind limb paralysis\n",
      "    │   ├── pareses\n",
      "    │   ├── extraocular muscles paralysis\n",
      "    │   ├── facial paralysis\n",
      "    │   ├── flaccid paralysis\n",
      "    │   └── hemiparesis\n",
      "    ├── behavioral symptom\n",
      "    │   ├── hyperactivity\n",
      "    │   ├── limited attention\n",
      "    │   ├── communication difficulty\n",
      "    │   ├── obsessive interests\n",
      "    │   ├── repetitive behavior\n",
      "    │   ├── irritability\n",
      "    │   ├── abnormal behavior\n",
      "    │   └── aggressive behavior\n",
      "    ├── meningismus\n",
      "    ├── neurologic neglect syndrome\n",
      "    ├── disturbances of sensation of smell and taste\n",
      "    ├── spondylitis\n",
      "    ├── meningitis\n",
      "    ├── convulsion\n",
      "    │   ├── febrile convulsion\n",
      "    │   └── tetanic convulsion\n",
      "    │       └── mild tetanic convulsion\n",
      "    ├── abnormal involuntary movement\n",
      "    │   └── circling movement\n",
      "    ├── seizure\n",
      "    │   ├── generalized seizure\n",
      "    │   │   ├── tonic-clonic seizure\n",
      "    │   │   ├── absence seizure\n",
      "    │   │   ├── myoclonic seizure\n",
      "    │   │   ├── atonic seizure\n",
      "    │   │   ├── clonic seizure\n",
      "    │   │   └── tonic seizure\n",
      "    │   ├── epileptic seizure\n",
      "    │   └── focal seizure\n",
      "    │       ├── complex partial seizure\n",
      "    │       └── simple partial seizure\n",
      "    ├── spasticity\n",
      "    ├── encephalitis\n",
      "    │   └── mild encephalitis\n",
      "    ├── reflex symptom\n",
      "    │   ├── hyperreflexia\n",
      "    │   ├── impaired gag reflex\n",
      "    │   ├── loss of tendon reflex\n",
      "    │   ├── areflexia\n",
      "    │   │   ├── absence of knee jerk reflex\n",
      "    │   │   └── absent gag reflex\n",
      "    │   ├── decreased flexor withdrawal reflex\n",
      "    │   └── diminished gag reflex\n",
      "    ├── meningoencephalitis\n",
      "    │   └── acute meningoencephalitis\n",
      "    ├── neurological dysfunction\n",
      "    │   └── acute cranial nerve dysfunction\n",
      "    ├── diminished spontaneous movement\n",
      "    ├── stroke\n",
      "    ├── neurological alteration\n",
      "    ├── acute mental dysfunction\n",
      "    ├── brain cyst\n",
      "    ├── altered mental status\n",
      "    ├── decreased motor response\n",
      "    └── floppy head\n"
     ]
    }
   ],
   "source": [
    "nodes_list = set([i for i in PostOrderIter(subgraph)])-set([subgraph])\n",
    "result_node = cg.merge_nodes_into_tree(nodes_list, node_type=ComorbidGraphNode)\n",
    "\n",
    "for pre, fill, node in RenderTree(result_node):\n",
    "    if hasattr(node, 'old_parent') and hasattr(node.old_parent, 'name'):\n",
    "        print(\"%s%s - %s\" % (pre, node.name, node.old_parent.name))\n",
    "    else:\n",
    "        print(\"%s%s\" % (pre, node.name))"
   ]
  },
  {
   "cell_type": "markdown",
   "id": "398761db",
   "metadata": {},
   "source": [
    "## Searchable\n",
    "Create the search language by allowing all entries.   \n",
    "Control for inputs irregularities and more."
   ]
  },
  {
   "cell_type": "code",
   "execution_count": 12,
   "id": "eda14a22",
   "metadata": {
    "scrolled": true
   },
   "outputs": [
    {
     "name": "stdout",
     "output_type": "stream",
     "text": [
      "{'content': {'inc': ['nervous system'], 'exc': []}}\n",
      "search results\n",
      "├── hallucination\n",
      "├── dysarthria\n",
      "├── abnormality of gait\n",
      "│   └── wobble\n",
      "├── sensation perception\n",
      "│   ├── pain\n",
      "│   │   ├── abdominal pain\n",
      "│   │   │   ├── periumbilic abdominal pain\n",
      "│   │   │   ├── left lower quadrant abdominal pain\n",
      "│   │   │   ├── right upper quadrant abdominal pain\n",
      "│   │   │   ├── right lower quadrant abdominal pain\n",
      "│   │   │   ├── epigastric abdominal pain\n",
      "│   │   │   ├── multiple sites abdominal pain\n",
      "│   │   │   ├── generalized abdominal pain\n",
      "│   │   │   └── left upper quadrant abdominal pain\n",
      "│   │   ├── backache\n",
      "│   │   │   ├── low backache\n",
      "│   │   │   ├── inflammatory low back pain\n",
      "│   │   │   └── severe backache\n",
      "│   │   ├── joint pain\n",
      "│   │   │   ├── hip pain\n",
      "│   │   │   ├── severe joint pain\n",
      "│   │   │   ├── knee pain\n",
      "│   │   │   ├── shoulder pain\n",
      "│   │   │   └── elbow pain\n",
      "│   │   ├── headache\n",
      "│   │   │   ├── frontal headache\n",
      "│   │   │   ├── severe headache\n",
      "│   │   │   └── bifrontal headache\n",
      "│   │   ├── muscle pain\n",
      "│   │   │   └── severe myalgia\n",
      "│   │   ├── chest pain\n",
      "│   │   │   ├── precordial pain\n",
      "│   │   │   ├── pleuritic chest pain\n",
      "│   │   │   └── severe chest pain\n",
      "│   │   ├── throat pain\n",
      "│   │   ├── claudication\n",
      "│   │   ├── heartburn\n",
      "│   │   ├── earache\n",
      "│   │   ├── toothache\n",
      "│   │   ├── colic\n",
      "│   │   │   └── renal colic\n",
      "│   │   ├── neck pain\n",
      "│   │   ├── chronic pain\n",
      "│   │   ├── breakthrough pain\n",
      "│   │   ├── visceral pain\n",
      "│   │   ├── nociceptive pain\n",
      "│   │   ├── neuropathic pain\n",
      "│   │   ├── acute pain\n",
      "│   │   ├── phantom pain\n",
      "│   │   ├── allodynia\n",
      "│   │   ├── referred pain\n",
      "│   │   ├── dyspareunia\n",
      "│   │   ├── muscles ache\n",
      "│   │   ├── painful lymph glands\n",
      "│   │   ├── parotid pain\n",
      "│   │   ├── testicular pain\n",
      "│   │   ├── retrobulbar pain\n",
      "│   │   ├── acute painful vision loss\n",
      "│   │   ├── colicky pain\n",
      "│   │   ├── body ache\n",
      "│   │   └── gas pain\n",
      "│   ├── hypoalgesia\n",
      "│   ├── hyperalgesia\n",
      "│   ├── hypoesthesia\n",
      "│   └── hyperesthesia\n",
      "├── aphasia\n",
      "│   ├── alexia\n",
      "│   ├── expressive aphasia\n",
      "│   ├── inability to comprehend speech\n",
      "│   │   └── receptive aphasia\n",
      "│   ├── inability to form words\n",
      "│   ├── poor enunciation\n",
      "│   ├── inability to speak\n",
      "│   ├── agraphia\n",
      "│   └── anomia\n",
      "├── paralysis\n",
      "│   ├── transient paralysis of limb\n",
      "│   ├── motor paralysis\n",
      "│   ├── spastic paralysis\n",
      "│   ├── paraplegia\n",
      "│   ├── lip paralysis\n",
      "│   ├── throat muscle paralysis\n",
      "│   ├── ophthalmoplegia\n",
      "│   ├── proximal paralysis of arm and leg\n",
      "│   ├── respiratory paralysis\n",
      "│   ├── hind limb paralysis\n",
      "│   │   └── partial hind limb paralysis\n",
      "│   ├── pareses\n",
      "│   ├── extraocular muscles paralysis\n",
      "│   ├── facial paralysis\n",
      "│   ├── flaccid paralysis\n",
      "│   └── hemiparesis\n",
      "├── behavioral symptom\n",
      "│   ├── hyperactivity\n",
      "│   ├── limited attention\n",
      "│   ├── communication difficulty\n",
      "│   ├── obsessive interests\n",
      "│   ├── repetitive behavior\n",
      "│   ├── irritability\n",
      "│   ├── abnormal behavior\n",
      "│   └── aggressive behavior\n",
      "├── meningismus\n",
      "├── spondylitis\n",
      "├── meningitis\n",
      "├── meningoencephalitis\n",
      "│   └── acute meningoencephalitis\n",
      "└── stroke\n",
      "\n"
     ]
    }
   ],
   "source": [
    "query_str = \"\"\"nervous system\"\"\"\n",
    "print(cg.build_query(query_str))\n",
    "result_cg = cg.advanced_search(query_str, node_type=ComorbidGraphNode, with_children=True)\n",
    "\n",
    "print(result_cg.explore())"
   ]
  },
  {
   "cell_type": "markdown",
   "id": "1d203b0a",
   "metadata": {},
   "source": [
    "## Ordering Results\n",
    "There should be two options - first the graph properties.  \n",
    "Second our simple algorithm based on combination of scores - as found in `comorbid-lab`."
   ]
  },
  {
   "cell_type": "code",
   "execution_count": 13,
   "id": "1f7b0ff9",
   "metadata": {},
   "outputs": [],
   "source": [
    "with open('../tests/fixtures/symp_tree.json') as f:\n",
    "    data = json.load(f)\n",
    "cg = ComorbidGraph(data, ComorbidGraphNode, assign_ids=True)"
   ]
  },
  {
   "cell_type": "code",
   "execution_count": 18,
   "id": "6bb5b2da",
   "metadata": {},
   "outputs": [],
   "source": [
    "query_str = \"\"\"\n",
    "pain\n",
    "inc_ancestor:nervous system symptom\n",
    "\"\"\"\n",
    "query_dict = cg.build_query(query_str)"
   ]
  },
  {
   "cell_type": "code",
   "execution_count": 19,
   "id": "2744d573",
   "metadata": {},
   "outputs": [
    {
     "name": "stdout",
     "output_type": "stream",
     "text": [
      "search\n",
      "├── backache\n",
      "├── headache\n",
      "├── muscle pain\n",
      "├── pleuritic chest pain\n",
      "├── throat pain\n",
      "├── claudication\n",
      "├── heartburn\n",
      "├── colic\n",
      "│   └── renal colic\n",
      "├── neck pain\n",
      "├── chronic pain\n",
      "├── breakthrough pain\n",
      "├── visceral pain\n",
      "├── nociceptive pain\n",
      "├── neuropathic pain\n",
      "├── acute pain\n",
      "├── phantom pain\n",
      "├── allodynia\n",
      "├── referred pain\n",
      "├── colicky pain\n",
      "├── hypoalgesia\n",
      "└── hyperalgesia\n",
      "\n"
     ]
    }
   ],
   "source": [
    "\n",
    "result_cg = cg.advanced_search(query_str, base_name=\"search\", node_type=ComorbidGraphNode, with_children=True)\n",
    "print(result_cg.explore())"
   ]
  },
  {
   "cell_type": "code",
   "execution_count": 20,
   "id": "a4dfb132",
   "metadata": {},
   "outputs": [
    {
     "name": "stdout",
     "output_type": "stream",
     "text": [
      "search results\n",
      "└── nervous system symptom\n",
      "    ├── coordination symptom\n",
      "    ├── behavioral symptom\n",
      "    └── reflex symptom\n",
      "\n"
     ]
    }
   ],
   "source": [
    "query_str = \"\"\"\n",
    "inc_name:symptom\n",
    "inc_ancestor:nervous system symptom\n",
    "\"\"\"\n",
    "result_symptom_cg = cg.advanced_search(query_str, node_type=ComorbidGraphNode, with_children=True)\n",
    "print(result_symptom_cg.explore())"
   ]
  },
  {
   "cell_type": "code",
   "execution_count": null,
   "id": "590c9f76",
   "metadata": {},
   "outputs": [],
   "source": []
  }
 ],
 "metadata": {
  "kernelspec": {
   "display_name": "Python 3 (ipykernel)",
   "language": "python",
   "name": "python3"
  },
  "language_info": {
   "codemirror_mode": {
    "name": "ipython",
    "version": 3
   },
   "file_extension": ".py",
   "mimetype": "text/x-python",
   "name": "python",
   "nbconvert_exporter": "python",
   "pygments_lexer": "ipython3",
   "version": "3.8.12"
  }
 },
 "nbformat": 4,
 "nbformat_minor": 5
}
