{
 "cells": [
  {
   "cell_type": "code",
   "execution_count": null,
   "id": "2430ada7",
   "metadata": {},
   "outputs": [],
   "source": [
    "!pip install comorbid"
   ]
  },
  {
   "cell_type": "code",
   "execution_count": null,
   "id": "18b3f51a",
   "metadata": {},
   "outputs": [],
   "source": [
    "import comorbid\n",
    "comorbid.load_wikipedia_category('https://en.wikipedia.org/wiki/Category:Meditation')"
   ]
  },
  {
   "cell_type": "code",
   "execution_count": null,
   "id": "4690d553",
   "metadata": {},
   "outputs": [],
   "source": [
    "search_results = comorbid.search(\"\"\"\n",
    "knowledge-graph is-like neurodevelopmental AND\n",
    "section is-like diagnostic criteria AND \n",
    "section contains head symptoms AND\n",
    "\"\"\")\n",
    "\n",
    "search_results_2 = comorbid.search(\"\"\"\n",
    "knowledge-graph is-like neurodevelopmental AND\n",
    "section is-like diagnostic criteria AND \n",
    "section contains head symptoms AND\n",
    "ontology-list is-like bodily dispositions\n",
    "\"\"\")"
   ]
  },
  {
   "cell_type": "code",
   "execution_count": null,
   "id": "11a8821a",
   "metadata": {},
   "outputs": [],
   "source": [
    "search_results = comorbid.search('depressive disorders')"
   ]
  },
  {
   "cell_type": "code",
   "execution_count": null,
   "id": "7424c713",
   "metadata": {},
   "outputs": [],
   "source": [
    "comorbid.compare(search_results_1, search_results_2)"
   ]
  },
  {
   "cell_type": "code",
   "execution_count": null,
   "id": "5dc1f08a",
   "metadata": {},
   "outputs": [],
   "source": [
    "search_resutls.visualize()"
   ]
  },
  {
   "cell_type": "code",
   "execution_count": null,
   "id": "dd38af61",
   "metadata": {},
   "outputs": [],
   "source": [
    "comorbid.website()"
   ]
  },
  {
   "cell_type": "code",
   "execution_count": null,
   "id": "0c8faea0",
   "metadata": {},
   "outputs": [],
   "source": []
  }
 ],
 "metadata": {
  "kernelspec": {
   "display_name": "Python 3 (ipykernel)",
   "language": "python",
   "name": "python3"
  },
  "language_info": {
   "codemirror_mode": {
    "name": "ipython",
    "version": 3
   },
   "file_extension": ".py",
   "mimetype": "text/x-python",
   "name": "python",
   "nbconvert_exporter": "python",
   "pygments_lexer": "ipython3",
   "version": "3.8.12"
  }
 },
 "nbformat": 4,
 "nbformat_minor": 5
}
