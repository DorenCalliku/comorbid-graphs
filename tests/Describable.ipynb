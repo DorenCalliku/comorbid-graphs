{
 "cells": [
  {
   "cell_type": "code",
   "execution_count": 20,
   "id": "5ad13685",
   "metadata": {},
   "outputs": [],
   "source": [
    "import json\n",
    "import pprint\n",
    "import matplotlib.pyplot as plt\n",
    "\n",
    "from anytree import PreOrderIter\n",
    "from anytree.search import findall\n",
    "from comorbid_graphs import ComorbidGraph, ComorbidGraphNode"
   ]
  },
  {
   "cell_type": "code",
   "execution_count": 21,
   "id": "b8739702",
   "metadata": {},
   "outputs": [],
   "source": [
    "with open('../tests/fixtures/symp_tree_labelled.json') as f:\n",
    "    data = json.load(f)\n",
    "cg = ComorbidGraph(data, ComorbidGraphNode, assign_ids=True)\n",
    "# print(cg.explore(maxlevel=3))\n"
   ]
  },
  {
   "cell_type": "code",
   "execution_count": 19,
   "id": "038f6566",
   "metadata": {},
   "outputs": [],
   "source": [
    "# from anytree.exporter import DotExporter\n",
    "# DotExporter(cg.tree.children[0], maxlevel=3).to_dotfile(\"tree.dot\")\n",
    "# dot tree.dot -T png -o tree.png"
   ]
  },
  {
   "cell_type": "code",
   "execution_count": null,
   "id": "60630e2b",
   "metadata": {},
   "outputs": [],
   "source": []
  }
 ],
 "metadata": {
  "kernelspec": {
   "display_name": "Python 3 (ipykernel)",
   "language": "python",
   "name": "python3"
  },
  "language_info": {
   "codemirror_mode": {
    "name": "ipython",
    "version": 3
   },
   "file_extension": ".py",
   "mimetype": "text/x-python",
   "name": "python",
   "nbconvert_exporter": "python",
   "pygments_lexer": "ipython3",
   "version": "3.8.12"
  }
 },
 "nbformat": 4,
 "nbformat_minor": 5
}
