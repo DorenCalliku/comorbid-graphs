{
 "cells": [
  {
   "cell_type": "code",
   "execution_count": 1,
   "id": "a08f32e7",
   "metadata": {},
   "outputs": [],
   "source": [
    "#!pip install spacy"
   ]
  },
  {
   "cell_type": "code",
   "execution_count": 2,
   "id": "4c5d3c61",
   "metadata": {},
   "outputs": [],
   "source": [
    "import json\n",
    "import pprint\n",
    "from anytree import PostOrderIter\n",
    "from comorbid_graphs import ComorbidGraph, ComorbidGraphNode"
   ]
  },
  {
   "cell_type": "code",
   "execution_count": 3,
   "id": "39985a44",
   "metadata": {},
   "outputs": [],
   "source": [
    "with open('../tests/fixtures/symp_tree.json') as f:\n",
    "    data = json.load(f)\n",
    "cg = ComorbidGraph(data, ComorbidGraphNode, assign_ids=True, root_name='symptom-ontology')"
   ]
  },
  {
   "cell_type": "code",
   "execution_count": 4,
   "id": "9d5db03a",
   "metadata": {},
   "outputs": [
    {
     "name": "stdout",
     "output_type": "stream",
     "text": [
      "\n",
      "Extracting labels from 949 nodes.\n",
      "Exctracted: 0\n",
      "Exctracted: 100\n",
      "Exctracted: 200\n",
      "Exctracted: 300\n",
      "Exctracted: 400\n",
      "Exctracted: 500\n",
      "Exctracted: 600\n",
      "Exctracted: 700\n",
      "Exctracted: 800\n",
      "Exctracted: 900\n"
     ]
    }
   ],
   "source": [
    "cg.process_graph([cg])"
   ]
  },
  {
   "cell_type": "code",
   "execution_count": 5,
   "id": "a832f7a1",
   "metadata": {},
   "outputs": [],
   "source": [
    "with open('../tests/fixtures/symp_tree_labelled.json', 'w+') as f:\n",
    "    json.dump(cg.export(), f)"
   ]
  },
  {
   "cell_type": "code",
   "execution_count": null,
   "id": "b4fe1f93",
   "metadata": {},
   "outputs": [],
   "source": []
  }
 ],
 "metadata": {
  "kernelspec": {
   "display_name": "Python 3 (ipykernel)",
   "language": "python",
   "name": "python3"
  },
  "language_info": {
   "codemirror_mode": {
    "name": "ipython",
    "version": 3
   },
   "file_extension": ".py",
   "mimetype": "text/x-python",
   "name": "python",
   "nbconvert_exporter": "python",
   "pygments_lexer": "ipython3",
   "version": "3.8.12"
  }
 },
 "nbformat": 4,
 "nbformat_minor": 5
}
