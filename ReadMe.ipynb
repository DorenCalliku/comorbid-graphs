{
 "cells": [
  {
   "cell_type": "markdown",
   "id": "1c9d180a",
   "metadata": {},
   "source": [
    "# Comorbid-Graphs\n",
    "Side by side comparison of disorders based on comorbidity factors for clinical psychology.\n",
    "\n",
    "- create hierarchies of information\n",
    "- analyse text for psychological terms\n",
    "- visualize"
   ]
  },
  {
   "cell_type": "markdown",
   "id": "c8cd2de8",
   "metadata": {},
   "source": [
    "### Table of Contents\n",
    "* [Getting Started](https://github.com/DorenCalliku/comorbid-graphs/blob/main/ReadMe.ipynb#getting-started)\n",
    "    - [Installation](https://github.com/DorenCalliku/comorbid-graphs/blob/main/ReadMe.ipynb#installation)\n",
    "    - [Comorbid-Graphs 101](https://github.com/DorenCalliku/comorbid-graphs/blob/main/ReadMe.ipynb#comorbid-graphs-101)\n",
    "* [Usage](https://github.com/DorenCalliku/comorbid-graphs/blob/main/ReadMe.ipynb#usage)\n",
    "    - [Explore](https://github.com/DorenCalliku/comorbid-graphs/blob/main/ReadMe.ipynb#explore)\n",
    "    - [Select](https://github.com/DorenCalliku/comorbid-graphs/blob/main/ReadMe.ipynb#select)\n",
    "    - [Search](https://github.com/DorenCalliku/comorbid-graphs/blob/main/ReadMe.ipynb#search)\n",
    "    - [Advanced Search](https://github.com/DorenCalliku/comorbid-graphs/blob/main/ReadMe.ipynb#advanced-search)\n",
    "* [Analytics](https://github.com/DorenCalliku/comorbid-graphs/blob/main/ReadMe.ipynb#analytics)\n",
    "    - [Compare usage of terms in NeuroDevelopmental Disorders](https://github.com/DorenCalliku/comorbid-graphs/blob/main/ReadMe.ipynb#compare-usage-of-terms-in-neurodevelopmental-disorders)\n",
    "    - [Compare in Overall DSM-V](https://github.com/DorenCalliku/comorbid-graphs/blob/main/ReadMe.ipynb#compare-in-overall-dsm-v)\n",
    "* [Save for later](https://github.com/DorenCalliku/comorbid-graphs/blob/main/ReadMe.ipynb#stats)\n",
    "\n"
   ]
  },
  {
   "cell_type": "markdown",
   "id": "dc8eeece",
   "metadata": {},
   "source": [
    "## Getting Started\n",
    "\n",
    "### Installation\n",
    "You can install `comorbid-graph` in any `python` environment."
   ]
  },
  {
   "cell_type": "code",
   "execution_count": 3,
   "id": "fd00fbd3",
   "metadata": {},
   "outputs": [],
   "source": [
    "# direct usage\n",
    "# !pip install git+https://github.com/DorenCalliku/comorbid-graphs\n",
    "\n",
    "# download, cd in this directory, build it\n",
    "# !pip install ."
   ]
  },
  {
   "cell_type": "markdown",
   "id": "17af33c3",
   "metadata": {},
   "source": [
    "### Comorbid-Graphs 101\n",
    "An example usage is the analysis of DSM-V.  \n",
    "Create the **ComorbidGraph**:\n",
    "* yaml file ( ex: good for writing hierarchies for your use )\n",
    "* json file ( ex: export of ontologies processing )\n",
    "* raw-json ( easy to process )"
   ]
  },
  {
   "cell_type": "code",
   "execution_count": 4,
   "id": "6047153b",
   "metadata": {
    "tags": [
     "hide-input"
    ]
   },
   "outputs": [
    {
     "name": "stdout",
     "output_type": "stream",
     "text": [
      "dsm-v\n",
      "├── Neurodevelopmental Disorders\n",
      "│   ├── Intellectual Disabilities\n",
      "│   │   ├── Intellectual Disability \n",
      "│   │   ├── Global Developmental Delay\n",
      "│   │   └── Unspecified Intellectual Disabilit (Intellectual Developmental Disorder)\n",
      "│   ├── Communication Disorders\n",
      "│   │   ├── Language Disorder\n",
      "│   │   ├── Speech Sound Disorder\n",
      "│   │   ├── Childhood-Onset Fluency Disorder (Stuttering)\n",
      "│   │   ├── Social (Pragmatic) Communication Disorder\n",
      "│   │   └── Unspecified Communication Disorder\n",
      "│   ├── Autism Spectrum Disorder\n",
      "│   │   └── Autism Spectrum Disorder Autism Spectrum Disorder\n",
      "│   ├── Attention-Deficit/Hyperactivity Disorder\n",
      "│   │   ├── Attention-Deficit/Hyperactivity Disorder Attention-Deficit/Hyperactivity Disorder\n",
      "│   │   ├── Other Specified Attention-Deficit/Hyperactivity Disorder\n",
      "│   │   └── Unspecified Attention-Deficit/Hyperactivity Disorder\n",
      "│   ├── Specific Learning Disorder\n",
      "│   │   └── Specific Learning Disorder Specific Learning Disorder\n",
      "│   ├── Motor Disorders\n",
      "...\n",
      "\n"
     ]
    }
   ],
   "source": [
    "from comorbid_graphs import ComorbidGraph\n",
    "cg = ComorbidGraph.from_json(filepath='examples/dsm_v/dsm_v_labelled.json')\n",
    "cg.print_head(maxlevel=4, top=20)"
   ]
  },
  {
   "cell_type": "markdown",
   "id": "8a080263",
   "metadata": {},
   "source": [
    "## Exploration\n",
    "These are methods that might come handy during your work with ComorbidGraphs.   \n",
    "\n",
    "Explore the whole hierarchy through `cg.explore()` or print just the top info `cg.print_head()`.\n",
    "\n",
    "* **maxlevel**:  how deep in tree you want to go, print_head default = 3 \n",
    "* **include_score**: shows on the side how much each result was evaluated, useful in search\n",
    "* **top**: shows top X lines"
   ]
  },
  {
   "cell_type": "code",
   "execution_count": null,
   "id": "02d1d24b",
   "metadata": {},
   "outputs": [],
   "source": [
    "cg.print_head(maxlevel=3, top=10)"
   ]
  },
  {
   "cell_type": "markdown",
   "id": "c184fad8",
   "metadata": {},
   "source": [
    "### Select\n",
    "If you know the name of node that you are looking for, this will return it with all its children."
   ]
  },
  {
   "cell_type": "code",
   "execution_count": null,
   "id": "633423b4",
   "metadata": {},
   "outputs": [],
   "source": [
    "results_cg = cg.select(\"Communication Disorders\")\n",
    "results_cg.print_head(maxlevel=3)"
   ]
  },
  {
   "cell_type": "markdown",
   "id": "8eacb9c9",
   "metadata": {},
   "source": [
    "### Search\n",
    "Finds the related nodes regarding specific terms. You can search multiple terms using `,` between terms.  \n",
    "It iterates through the nodes, and scores them based on a simple function. After that returns only the included nodes ordered by *relevance*.  \n",
    "\n",
    "* **select_from**: filter from a certain ancestor that you know\n",
    "* **filter_type**: based on your preference, you might filter only sections\n",
    "* **title**:    provide a meaningful title for you\n",
    "\n",
    "**Warning**: Relevance score is **not** meaningful yet."
   ]
  },
  {
   "cell_type": "code",
   "execution_count": null,
   "id": "2e8714fd",
   "metadata": {},
   "outputs": [],
   "source": [
    "# Example: \n",
    "results_cg = cg.search(\n",
    "    \"headache,migraine\",\n",
    "    select_from='caffeine',\n",
    "    filter_type='default,section',\n",
    "    title='Caffeine Solution',\n",
    ")\n",
    "results_cg.print_head()"
   ]
  },
  {
   "cell_type": "markdown",
   "id": "9f0e3c6b",
   "metadata": {},
   "source": [
    "### Advanced Search\n",
    "\n",
    "As you can see from previous search, if you have a **high level of granularity** you might want to do some **filtering** so that you will get more meaningful results. For users who are using search a lot for specifics in a hierarchical graph.   \n",
    "For a more in-depth explanation check [advanced search docs](https://github.com/DorenCalliku/comorbid-graphs/blob/main/docs/search.md).\n",
    "\n",
    "#### Types of filters\n",
    "- **inc**: include or filter-in \n",
    "- **exc**: exclude or filter-out\n",
    "\n",
    "#### Element of filters\n",
    "* **name** : find all the nodes that contain these words in their name/title\n",
    "* **content** : find all the nodes that contain these words in the body - by default also the unassigned text.\n",
    "* **type** : filter the nodes that have a type like this\n",
    "* **text_longer** : filter the nodes with text longer than provided\n",
    "* **parent** : if parent has name like this\n",
    "\n",
    "#### Special Filter\n",
    "* **ancestor** : Checks if any of the names of the ancestors in the tree is like pattern"
   ]
  },
  {
   "cell_type": "code",
   "execution_count": null,
   "id": "316ed4aa",
   "metadata": {},
   "outputs": [],
   "source": [
    "# Example: Which Disorders in 'DSM-V' contain the term 'depressive disorder'?\n",
    "# (but I am not interested in neurodevelopmental disorders, and skip small docs too - \n",
    "# say skip disorders smaller than 100 characters of text)\n",
    "\n",
    "query_string = \"\"\"\n",
    "depressive disorder\n",
    "inc_name:        depress,diagnostic criteria\n",
    "exc_ancestor:    neurodevelopmental\n",
    "inc_text_longer: 100\n",
    "\"\"\"\n",
    "# cg.get_query(query_string)"
   ]
  },
  {
   "cell_type": "code",
   "execution_count": null,
   "id": "98c13a75",
   "metadata": {},
   "outputs": [],
   "source": [
    "results_cg = cg.advanced_search(query_string)\n",
    "results_cg.print_head()"
   ]
  },
  {
   "cell_type": "markdown",
   "id": "a4ba78ae",
   "metadata": {},
   "source": [
    "## Analytics\n",
    "### Compare usage of terms in NeuroDevelopmental Disorders\n",
    "Compare usage of terms in Neurodevelopmental Disorders."
   ]
  },
  {
   "cell_type": "code",
   "execution_count": null,
   "id": "0c681583",
   "metadata": {},
   "outputs": [],
   "source": [
    "from comorbid_graphs.processable.utils import heatmap_plot_df \n",
    "\n",
    "query_string = \"\"\"\n",
    "inc_ancestor:  neurodevelopmental\n",
    "inc_text_longer: 100\n",
    "\"\"\"\n",
    "results_cg = cg.advanced_search(query_string)\n",
    "results_cg.print_head(maxlevel=2)\n",
    "\n",
    "# filter only the sections in the tree\n",
    "node_list = [\n",
    "    i for i in results_cg.get_nodes(exclude_head=True) \n",
    "    if i.type == 'default'\n",
    "]\n",
    "\n",
    "# check comorbid_graph.processable.label_handler_mixin\n",
    "processed_df = results_cg.compare_section_annotations(node_list, include_stats=True)\n",
    "\n",
    "# plot by ordering based on how many different annotations each disease has\n",
    "# show top 10\n",
    "heatmap_plot_df(\n",
    "    processed_df\n",
    "    .applymap(len)\n",
    "    .sort_values('all')\n",
    "    .iloc[1:-1,:-2],\n",
    "    annot=True\n",
    ")"
   ]
  },
  {
   "cell_type": "markdown",
   "id": "89c574cc",
   "metadata": {},
   "source": [
    "### Results?\n",
    "* `Tic disorders` have most Comorbidity\n",
    "* `ADHD` contains most specifiers \n",
    "* `ASD`, `Intellectual Disability` and `Specific Learning disorder` fill the Top-5"
   ]
  },
  {
   "cell_type": "markdown",
   "id": "f69b8e68",
   "metadata": {},
   "source": [
    "### Compare in Overall DSM-V"
   ]
  },
  {
   "cell_type": "code",
   "execution_count": null,
   "id": "c54b0438",
   "metadata": {},
   "outputs": [],
   "source": [
    "from comorbid_graphs.processable.utils import heatmap_plot_df \n",
    "\n",
    "query_string = \"\"\"\n",
    "inc_ancestor:  DSM-V\n",
    "inc_text_longer: 100\n",
    "\"\"\"\n",
    "results_cg = cg.advanced_search(query_string)\n",
    "results_cg.print_head(maxlevel=2)\n",
    "\n",
    "# filter only the sections in the tree\n",
    "node_list = [\n",
    "    i for i in results_cg.get_nodes(exclude_head=True) \n",
    "    if i.type == 'default'\n",
    "]\n",
    "\n",
    "# check comorbid_graph.processable.label_handler_mixin\n",
    "processed_df = results_cg.compare_section_annotations(node_list, include_stats=True)\n",
    "\n",
    "# plot by ordering based on how many different annotations each disease has\n",
    "# show top 10\n",
    "heatmap_plot_df(\n",
    "    processed_df\n",
    "    .applymap(len)\n",
    "    .sort_values('all')\n",
    "    .iloc[1:-1,:-2]\n",
    "    .tail(30)\n",
    ")"
   ]
  },
  {
   "cell_type": "markdown",
   "id": "72814e74",
   "metadata": {},
   "source": [
    "### Results?\n",
    "* `Depressive Disorder Due to Another Medical Condition` has most included terms\n",
    "* `PTSD` and `Schizophrenia` are in top-5 because their Differential Diagnosis is difficult.\n",
    "* `Panic Disorder` and `Tic Disorders` have most terms found in comorbidity section."
   ]
  },
  {
   "cell_type": "markdown",
   "id": "26d4350e",
   "metadata": {},
   "source": [
    "## Save for Later"
   ]
  },
  {
   "cell_type": "code",
   "execution_count": null,
   "id": "89fcca99",
   "metadata": {},
   "outputs": [],
   "source": [
    "# results_cg.write('search_results.yaml')"
   ]
  }
 ],
 "metadata": {
  "jupytext": {
   "formats": "ipynb,md"
  },
  "kernelspec": {
   "display_name": "Python 3 (ipykernel)",
   "language": "python",
   "name": "python3"
  },
  "language_info": {
   "codemirror_mode": {
    "name": "ipython",
    "version": 3
   },
   "file_extension": ".py",
   "mimetype": "text/x-python",
   "name": "python",
   "nbconvert_exporter": "python",
   "pygments_lexer": "ipython3",
   "version": "3.8.12"
  },
  "widgets": {
   "application/vnd.jupyter.widget-state+json": {
    "state": {},
    "version_major": 2,
    "version_minor": 0
   }
  }
 },
 "nbformat": 4,
 "nbformat_minor": 5
}
