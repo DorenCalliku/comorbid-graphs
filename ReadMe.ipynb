{
 "cells": [
  {
   "cell_type": "markdown",
   "id": "1c9d180a",
   "metadata": {},
   "source": [
    "\n",
    "# Comorbid-Graphs\n",
    "Side by side comparison of disorders based on comorbidity factors for clinical psychology.\n",
    "\n",
    "- create hierarchies of information\n",
    "- analyse text for psychological terms\n",
    "- visualize"
   ]
  },
  {
   "cell_type": "markdown",
   "id": "2f68dc08",
   "metadata": {},
   "source": [
    "**[Examples](https://github.com/DorenCalliku/comorbid-graphs/examples)**: Learn how to apply it to your problem through our use-cases.  \n",
    "**[Report issue](https://github.com/DorenCalliku/comorbid-graphs/issues)**: If something doesnt seem right.\n",
    "\n"
   ]
  },
  {
   "cell_type": "markdown",
   "id": "c8cd2de8",
   "metadata": {},
   "source": [
    "### Table of Contents\n",
    "* [Intro](#intro)\n",
    "* [Getting Started](#getting-started)\n",
    "    - [Installation](#installation)\n",
    "    - [Comorbid-Graphs 101](#comorbid-graphs-101)\n",
    "* [Usage](#usage)\n",
    "    - [Explore](#explore)\n",
    "    - [Select](#select)\n",
    "    - [Search](#search)\n",
    "    - [Advanced Search](#advanced-search)\n",
    "    - [Stats](#stats)\n",
    "    - [Process](#analytics)\n",
    "    - [Compare](#compare)\n",
    "* [References](#references)\n",
    "\n"
   ]
  },
  {
   "cell_type": "markdown",
   "id": "feee3267",
   "metadata": {},
   "source": [
    "## Intro\n",
    "* [Short Story Long](https://github.com/DorenCalliku/comorbid-graphs/docs/story.md): What is this tool trying to archive?   \n",
    "* [Ontologies](https://github.com/DorenCalliku/comorbid-graphs/docs/ontologies.md): Where do we get the terminology from?   \n",
    "* [Data](https://github.com/DorenCalliku/comorbid-graphs/docs/data.md): How to load information?  \n",
    "\n",
    "- [Applications](https://github.com/DorenCalliku/comorbid-graphs/docs/applications.md): Who is using Comorbid-Graphs?  \n",
    "- [Readings](https://github.com/DorenCalliku/comorbid-graphs/docs/notes.md): Interesting related articles or repositories.  \n",
    "\n"
   ]
  },
  {
   "cell_type": "markdown",
   "id": "dc8eeece",
   "metadata": {},
   "source": [
    "## Getting Started\n",
    "\n",
    "### Installation\n",
    "You can install `comorbid-graph` in any `python` environment."
   ]
  },
  {
   "cell_type": "markdown",
   "id": "8fc5428c",
   "metadata": {},
   "source": [
    "```sh\n",
    "!pip install git+https://github.com/DorenCalliku/comorbid-graphs\n",
    "```"
   ]
  },
  {
   "cell_type": "markdown",
   "id": "17af33c3",
   "metadata": {},
   "source": [
    "## Comorbid-Graphs 101: Exploration of DSM-V\n",
    "An example usage is the analysis of DSM-V.  \n",
    "Create the **ComorbidGraph** from raw-json.  "
   ]
  },
  {
   "cell_type": "code",
   "execution_count": 1,
   "id": "6047153b",
   "metadata": {
    "tags": [
     "hide-input"
    ]
   },
   "outputs": [
    {
     "name": "stdout",
     "output_type": "stream",
     "text": [
      "DSM_V\n",
      "├── Neurodevelopmental Disorders\n",
      "│   ├── Intellectual Disabilities\n",
      "│   ├── Communication Disorders\n",
      "│   ├── Autism Spectrum Disorder\n",
      "│   ├── Attention-Deficit/Hyperactivity Disorder\n",
      "│   ├── Specific Learning Disorder\n",
      "│   ├── Motor Disorders\n",
      "│   └── Other Neurodevelopmental Disorders\n",
      "├── Schizophrenia Spectrum and Other Psychotic Disorders\n",
      "│   ├── Schizotypal (Personality) Disorder\n",
      "...\n",
      "\n"
     ]
    }
   ],
   "source": [
    "import json\n",
    "\n",
    "# read a json file\n",
    "filepath = 'examples/dsm_v/dsm_v.json'\n",
    "with open(filepath) as f:\n",
    "    data = json.load(f)\n",
    "    \n",
    "# create the comorbid graph\n",
    "from comorbid_graphs import ComorbidGraph, ComorbidGraphNode\n",
    "cg = ComorbidGraph(json_data=data, node_type=ComorbidGraphNode)\n",
    "cg.print_head()"
   ]
  },
  {
   "cell_type": "markdown",
   "id": "8a080263",
   "metadata": {},
   "source": [
    "## Exploration\n",
    "These are methods that might come handy during your work with ComorbidGraphs.   \n",
    "\n",
    "Explore the whole hierarchy through `cg.explore()` or print just the top info `cg.print_head()`.\n",
    "\n",
    "* **maxlevel**:  how deep in tree you want to go, print_head default = 3 \n",
    "* **include_score**: shows on the side how much each result was evaluated, useful in search\n",
    "* **top**: shows top X lines"
   ]
  },
  {
   "cell_type": "code",
   "execution_count": 2,
   "id": "02d1d24b",
   "metadata": {},
   "outputs": [
    {
     "name": "stdout",
     "output_type": "stream",
     "text": [
      "DSM_V\n",
      "├── Neurodevelopmental Disorders\n",
      "│   ├── Intellectual Disabilities\n",
      "│   ├── Communication Disorders\n",
      "│   ├── Autism Spectrum Disorder\n",
      "│   ├── Attention-Deficit/Hyperactivity Disorder\n",
      "│   ├── Specific Learning Disorder\n",
      "│   ├── Motor Disorders\n",
      "│   └── Other Neurodevelopmental Disorders\n",
      "├── Schizophrenia Spectrum and Other Psychotic Disorders\n",
      "│   ├── Schizotypal (Personality) Disorder\n",
      "...\n",
      "\n"
     ]
    }
   ],
   "source": [
    "cg.print_head(maxlevel=3, top=10)"
   ]
  },
  {
   "cell_type": "markdown",
   "id": "c184fad8",
   "metadata": {},
   "source": [
    "### Select\n",
    "If you know the name of node that you are looking for, this will return it with all its children."
   ]
  },
  {
   "cell_type": "code",
   "execution_count": 3,
   "id": "633423b4",
   "metadata": {},
   "outputs": [
    {
     "name": "stdout",
     "output_type": "stream",
     "text": [
      "Neurodevelopmental Disorders\n",
      "├── Intellectual Disabilities\n",
      "├── Communication Disorders\n",
      "├── Autism Spectrum Disorder\n",
      "├── Attention-Deficit/Hyperactivity Disorder\n",
      "├── Specific Learning Disorder\n",
      "├── Motor Disorders\n",
      "└── Other Neurodevelopmental Disorders\n",
      "\n"
     ]
    }
   ],
   "source": [
    "results_cg = cg.select(\"Neurodevelopmental Disorders\")\n",
    "results_cg.print_head(maxlevel=2)"
   ]
  },
  {
   "cell_type": "markdown",
   "id": "8eacb9c9",
   "metadata": {},
   "source": [
    "### Search\n",
    "Finds the related nodes regarding specific terms. You can search multiple terms using `,` between terms.  \n",
    "It iterates through the nodes, and scores them based on a simple function. After that returns only the included nodes ordered by *relevance*.  \n",
    "\n",
    "* **select_from**: filter from a certain ancestor that you know\n",
    "* **filter_type**: based on your preference, you might filter only sections\n",
    "* **title**:    provide a meaningful title for you\n",
    "\n",
    "**Warning**: Relevance score is **not** meaningful yet."
   ]
  },
  {
   "cell_type": "code",
   "execution_count": 4,
   "id": "2e8714fd",
   "metadata": {},
   "outputs": [
    {
     "name": "stdout",
     "output_type": "stream",
     "text": [
      "Caffeine Solution\n",
      "├── Caffeine Withdrawal\n",
      "│   ├── Differential Diagnosis\n",
      "│   ├── Functional Consequences of\n",
      "│   ├── Prevalence\n",
      "│   ├── Diagnostic Criteria\n",
      "│   ├── Diagnostic Features\n",
      "│   └── Development and Course\n",
      "└── Caffeine Intoxication\n",
      "    └── Associated Features Supporting Diagnosis\n",
      "\n"
     ]
    }
   ],
   "source": [
    "# Example: \n",
    "results_cg = cg.search(\n",
    "    \"headache,migraine\",\n",
    "    select_from='caffeine',\n",
    "    filter_type='default,section',\n",
    "    title='Caffeine Solution',\n",
    ")\n",
    "results_cg.print_head()"
   ]
  },
  {
   "cell_type": "markdown",
   "id": "9f0e3c6b",
   "metadata": {},
   "source": [
    "### Advanced Search\n",
    "\n",
    "As you can see from previous search, if you have a **high level of granularity** you might want to do some **filtering** so that you will get more meaningful results. For users who are using search a lot for specifics in a hierarchical graph. For a full guide and explanation check the page [advanced search](https://github.com/DorenCalliku/comorbid-graphs/docs/search.md) in the documentation.\n",
    "\n",
    "#### Types of filters\n",
    "- **inc**: include or filter-in \n",
    "- **exc**: exclude or filter-out\n",
    "\n",
    "#### Element of filters\n",
    "* **name** : find all the nodes that contain these words in their name/title\n",
    "* **content** : find all the nodes that contain these words in the body - by default also the unassigned text.\n",
    "* **type** : filter the nodes that have a type like this\n",
    "* **text_longer** : filter the nodes with text longer than provided\n",
    "* **parent** : if parent has name like this\n",
    "\n",
    "#### Special Filter\n",
    "* **ancestor** : Checks if any of the names of the ancestors in the tree is like pattern"
   ]
  },
  {
   "cell_type": "code",
   "execution_count": 5,
   "id": "316ed4aa",
   "metadata": {},
   "outputs": [],
   "source": [
    "# Example: Which Disorders in 'DSM-V' contain the term 'depressive disorder'?\n",
    "# (but I am not interested in neurodevelopmental disorders, and skip small docs too - \n",
    "# say skip disorders smaller than 100 characters of text)\n",
    "\n",
    "query_string = \"\"\"\n",
    "depressive disorder\n",
    "inc_name:        depress,diagnostic criteria\n",
    "exc_ancestor:    neurodevelopmental\n",
    "inc_text_longer: 100\n",
    "\"\"\"\n",
    "# cg.get_query(query_string)"
   ]
  },
  {
   "cell_type": "code",
   "execution_count": 6,
   "id": "98c13a75",
   "metadata": {},
   "outputs": [
    {
     "name": "stdout",
     "output_type": "stream",
     "text": [
      "Merged results\n",
      "├── Major Depressive Disorder\n",
      "│   └── Diagnostic Criteria\n",
      "├── Substance/Medication-Induced Depressive Disorder\n",
      "│   └── Diagnostic Criteria\n",
      "├── Depressive Disorder Due to Another Medical Condition\n",
      "│   └── Diagnostic Criteria\n",
      "├── Diagnostic Criteria\n",
      "└── Persistent Depressive Disorder (Dysthymia)\n",
      "\n"
     ]
    }
   ],
   "source": [
    "results_cg = cg.advanced_search(query_string)\n",
    "results_cg.print_head()"
   ]
  },
  {
   "cell_type": "markdown",
   "id": "26d4350e",
   "metadata": {},
   "source": [
    "### Save for Later"
   ]
  },
  {
   "cell_type": "code",
   "execution_count": 7,
   "id": "89fcca99",
   "metadata": {},
   "outputs": [],
   "source": [
    "with open('search_results.json', 'w+') as f:\n",
    "    json.dump(results_cg.export(), f)"
   ]
  },
  {
   "cell_type": "markdown",
   "id": "74011879",
   "metadata": {},
   "source": [
    "## References\n",
    "This package can be thought as a thin wrapper to [Anytree](https://anytree.readthedocs.io/en/latest/index.html), with some useful functionalities for use-case of ontologies and text-processing.   \n",
    "\n",
    "* Applications using this tool\n",
    "    - [Garden-of-Graphs](http://garden-of-graphs.herokuapp.com/) - latest version usage  \n",
    "    - [DiseasePainter](https://diseasepainter.herokuapp.com/) - first version usage\n",
    "* Libraries I am using\n",
    "    - [Pandas](https://pandas.pydata.org/docs/reference/index.html#api) - for bulk analysis\n",
    "    - [Spacy](https://spacy.io/) - future usage\n",
    "* Similar packages\n",
    "    * KGlab - [docs](https://derwen.ai/docs/kgl/), [code](https://github.com/DerwenAI/kglab) \n",
    "    * OntoBio's [OntolFactory](https://github.com/biolink/ontobio/blob/master/ontobio/ontol_factory.py) - [docs](https://ontobio.readthedocs.io/en/latest/), [sample notebook on wikidata](https://nbviewer.org/github/biolink/ontobio/blob/master/notebooks/Wikidata_Ontology.ipynb) - [interesting](https://nbviewer.org/github/biolink/ontobio/blob/master/notebooks/output/anxiety-disorder.png)\n",
    "    * Ontospy - visualize ontologies - [code](https://github.com/lambdamusic/Ontospy)  \n",
    "    * PyTextRank - [ppt](https://derwen.ai/s/kcgh#106), [code](https://github.com/DerwenAI/pytextrank)"
   ]
  }
 ],
 "metadata": {
  "jupytext": {
   "formats": "ipynb,md"
  },
  "kernelspec": {
   "display_name": "Python 3 (ipykernel)",
   "language": "python",
   "name": "python3"
  },
  "language_info": {
   "codemirror_mode": {
    "name": "ipython",
    "version": 3
   },
   "file_extension": ".py",
   "mimetype": "text/x-python",
   "name": "python",
   "nbconvert_exporter": "python",
   "pygments_lexer": "ipython3",
   "version": "3.8.12"
  },
  "widgets": {
   "application/vnd.jupyter.widget-state+json": {
    "state": {},
    "version_major": 2,
    "version_minor": 0
   }
  }
 },
 "nbformat": 4,
 "nbformat_minor": 5
}
